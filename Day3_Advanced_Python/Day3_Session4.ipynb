{
 "metadata": {
  "name": "",
  "signature": "sha256:889992806321bd82307514704df36e2cf179f448b4d2cd155ebbe4dc7ea59564"
 },
 "nbformat": 3,
 "nbformat_minor": 0,
 "worksheets": [
  {
   "cells": [
    {
     "cell_type": "markdown",
     "metadata": {},
     "source": [
      "Session 4:\n",
      "Testing: unittest, doctest, pytest, mock, nose, coverage\n",
      "Regular Expressions \n",
      "End of Day 3"
     ]
    }
   ],
   "metadata": {}
  }
 ]
}