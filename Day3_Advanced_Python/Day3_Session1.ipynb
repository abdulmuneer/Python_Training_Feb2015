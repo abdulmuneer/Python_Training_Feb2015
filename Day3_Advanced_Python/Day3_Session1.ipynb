{
 "metadata": {
  "name": "",
  "signature": "sha256:d982d6040a355edd6114fb26867cb29049f63368193252cab9be118e17592458"
 },
 "nbformat": 3,
 "nbformat_minor": 0,
 "worksheets": [
  {
   "cells": [
    {
     "cell_type": "markdown",
     "metadata": {},
     "source": [
      "__ List Comprehensions, Dictionary Comprehensions__\n",
      "\n",
      " - syntax of LC\n",
      " - examples\n",
      " - Syntax of DC, SC\n",
      " - Examples,\n",
      " - compatibility of python versions\n"
     ]
    },
    {
     "cell_type": "markdown",
     "metadata": {},
     "source": [
      "__Functional Programming Concepts: __\n",
      "\n",
      "(The following is adapted from material by David Mertz in IBM developerworks library)\n",
      " - Functions are first class (objects). That is, everything you can do with \"data\" can be done with functions themselves (such as passing a function to another function). \n",
      " - Recursion is used as a primary control structure. \n",
      " - With Python 2.0, a very nice bit of \"syntactic sugar\" was added with list comprehensions.\n",
      " - While list comprehensions add no new capability, they make a lot of the old capabilities look a lot nicer. \n",
      " - The basic elements of FP in Python are the functions map(), reduce(), and filter(), and the operator lambda.\n",
      " - These very few functions (and the basic operators) are almost sufficient to write any Python program.\n",
      " - specifically, the flow control statements (if, elif, else, assert, try, except, finally, for, break, continue, while, def) can all be handled in a functional style using exclusively the FP functions and operators."
     ]
    },
    {
     "cell_type": "markdown",
     "metadata": {},
     "source": [
      "__ Eliminating flow control statements__\n",
      "\n",
      "- key point: \"Python \"short circuits\" evaluation of Boolean expressions.\"\n",
      "- This provides an expression version of if/ elif/ else blocks (assuming each block calls one function, which is always possible to arrange):\n",
      "\n",
      "```python\n",
      "# Normal statement-based flow control\n",
      "if <cond1>:   func1()\n",
      "elif <cond2>: func2()\n",
      "else:         func3()\n",
      "\n",
      "# Equivalent \"short circuit\" expression\n",
      "(<cond1> and func1()) or (<cond2> and func2()) or (func3())\n",
      "\n",
      "# Example \"short circuit\" expression\n",
      ">>> x = 3\n",
      ">>> def pr(s): return s\n",
      ">>> (x==1 and pr('one')) or (x==2 and pr('two')) or (pr('other'))\n",
      "'other'\n",
      ">>> x = 2\n",
      ">>> (x==1 and pr('one')) or (x==2 and pr('two')) or (pr('other'))\n",
      "'two'\n",
      "```"
     ]
    },
    {
     "cell_type": "markdown",
     "metadata": {},
     "source": [
      "__ Lambda with short-circuiting in Python__\n",
      "\n",
      "```python\n",
      ">>> pr = lambda s:s\n",
      ">>> namenum = lambda x: (x==1 and pr(\"one\")) \\\n",
      "....                  or (x==2 and pr(\"two\")) \\\n",
      "....                  or (pr(\"other\"))\n",
      ">>> namenum(1)\n",
      "'one'\n",
      ">>> namenum(2)\n",
      "'two'\n",
      ">>> namenum(3)\n",
      "'other'\n",
      "```\n"
     ]
    },
    {
     "cell_type": "markdown",
     "metadata": {},
     "source": [
      "__Functions as first class objects__\n",
      "\n",
      "We were able to bind our objects to the names \"pr\" and \"namenum\", in exactly the same way we might have bound the number 23 or the string \"spam\" to those names. \n",
      "\n",
      "The main thing we do with our first class objects, is pass them to our FP built-in functions map(), reduce(), and filter(). Each of these functions accepts a function object as its first argument. "
     ]
    },
    {
     "cell_type": "markdown",
     "metadata": {},
     "source": [
      "__Map__\n",
      "\n",
      "map() performs the passed function on each corresponding item in the specified list(s), and returns a list of results. \n",
      "\n",
      "\n",
      "__Reduce__\n",
      "\n",
      "reduce() performs the passed function on each subsequent item and an internal accumulator of a final result; for example, reduce(lambda n,m:n*m, range(1,10)) means \"factorial of 10\" (in other words, multiply each item by the product of previous multiplications). \n",
      "\n",
      "__Filter__\n",
      "\n",
      "filter() uses the passed function to \"evaluate\" each item in a list, and return a winnowed list of the items that pass the function test. "
     ]
    },
    {
     "cell_type": "markdown",
     "metadata": {},
     "source": [
      "__Functional looping in Python__\n",
      "\n",
      "Replacing loops is as simple as was replacing conditional blocks. `for` can be directly translated to `map()`. \n",
      "```python\n",
      "for e in lst:\n",
      "    func(e)      # statement-based loop\n",
      "map(func,lst)           # map()-based loop\n",
      "```"
     ]
    }
   ],
   "metadata": {}
  }
 ]
}