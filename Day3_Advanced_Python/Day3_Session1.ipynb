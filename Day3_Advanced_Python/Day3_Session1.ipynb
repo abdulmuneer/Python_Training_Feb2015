{
 "metadata": {
  "name": "",
  "signature": "sha256:3679930059a2233ea19bdeb5e9d3e6caad8b3f3f2f6fd93d28e6f960d5597b98"
 },
 "nbformat": 3,
 "nbformat_minor": 0,
 "worksheets": [
  {
   "cells": [
    {
     "cell_type": "markdown",
     "metadata": {},
     "source": [
      "__ List Comprehensions, Dictionary Comprehensions__\n",
      "\n",
      " - syntax of LC\n",
      " - examples\n",
      " - Syntax of DC, SC\n",
      " - Examples,\n",
      " - compatibility of python versions\n"
     ]
    },
    {
     "cell_type": "code",
     "collapsed": false,
     "input": [
      "x = range(10)\n",
      "print x\n",
      "new_list = []\n",
      "for element in x:\n",
      "    new_list.append(element*element)\n",
      "print new_list\n",
      "\n",
      "squares = [element*element for element in x]\n",
      "print \"squares: \", squares\n",
      "\n",
      "multiples_3 = [element for element in x if element%3==0]\n",
      "print \"multiples_3, \", multiples_3\n"
     ],
     "language": "python",
     "metadata": {},
     "outputs": [
      {
       "output_type": "stream",
       "stream": "stdout",
       "text": [
        "[0, 1, 2, 3, 4, 5, 6, 7, 8, 9]\n",
        "[0, 1, 4, 9, 16, 25, 36, 49, 64, 81]\n",
        "squares:  [0, 1, 4, 9, 16, 25, 36, 49, 64, 81]\n",
        "multiples_3,  [0, 3, 6, 9]\n"
       ]
      }
     ],
     "prompt_number": 8
    },
    {
     "cell_type": "code",
     "collapsed": false,
     "input": [
      "x = [(1, 1000),(2, 2000), (3, 3000)]\n",
      "\n",
      "y = {key:value for key, value in x if key%3==0}\n",
      "print y\n",
      "print dict(x)\n",
      "\n",
      "#SC\n",
      "x = range(10) + range(5)\n",
      "print x\n",
      "\n",
      "s = {element for element in x}\n",
      "print s"
     ],
     "language": "python",
     "metadata": {},
     "outputs": [
      {
       "output_type": "stream",
       "stream": "stdout",
       "text": [
        "{3: 3000}\n",
        "{1: 1000, 2: 2000, 3: 3000}\n",
        "[0, 1, 2, 3, 4, 5, 6, 7, 8, 9, 0, 1, 2, 3, 4]\n",
        "set([0, 1, 2, 3, 4, 5, 6, 7, 8, 9])\n"
       ]
      }
     ],
     "prompt_number": 14
    },
    {
     "cell_type": "markdown",
     "metadata": {},
     "source": [
      "__Functional Programming Concepts: __\n",
      "\n",
      "(The following is adapted from material by David Mertz in IBM developerworks library)\n",
      " - Functions are first class (objects). That is, everything you can do with \"data\" can be done with functions themselves (such as passing a function to another function). \n",
      " - Recursion is used as a primary control structure. \n",
      " - With Python 2.0, a very nice bit of \"syntactic sugar\" was added with list comprehensions.\n",
      " - While list comprehensions add no new capability, they make a lot of the old capabilities look a lot nicer. \n",
      " - The basic elements of FP in Python are the functions map(), reduce(), and filter(), and the operator lambda.\n",
      " - These very few functions (and the basic operators) are almost sufficient to write any Python program.\n",
      " - specifically, the flow control statements (if, elif, else, assert, try, except, finally, for, break, continue, while, def) can all be handled in a functional style using exclusively the FP functions and operators."
     ]
    },
    {
     "cell_type": "markdown",
     "metadata": {},
     "source": [
      "__ Eliminating flow control statements__\n",
      "\n",
      "- key point: \"Python \"short circuits\" evaluation of Boolean expressions.\"\n",
      "- This provides an expression version of if/ elif/ else blocks (assuming each block calls one function, which is always possible to arrange):\n",
      "\n",
      "```python\n",
      "# Normal statement-based flow control\n",
      "if <cond1>:   func1()\n",
      "elif <cond2>: func2()\n",
      "else:         func3()\n",
      "\n",
      "# Equivalent \"short circuit\" expression\n",
      "(<cond1> and func1()) or (<cond2> and func2()) or (func3())\n",
      "\n",
      "# Example \"short circuit\" expression\n",
      ">>> x = 3\n",
      ">>> def pr(s): return s\n",
      ">>> (x==1 and pr('one')) or (x==2 and pr('two')) or (pr('other'))\n",
      "'other'\n",
      ">>> x = 2\n",
      ">>> (x==1 and pr('one')) or (x==2 and pr('two')) or (pr('other'))\n",
      "'two'\n",
      "```"
     ]
    },
    {
     "cell_type": "markdown",
     "metadata": {},
     "source": [
      "__ Lambda with short-circuiting in Python__\n",
      "\n",
      "```python\n",
      ">>> pr = lambda s:s\n",
      ">>> namenum = lambda x: (x==1 and pr(\"one\")) \\\n",
      "....                  or (x==2 and pr(\"two\")) \\\n",
      "....                  or (pr(\"other\"))\n",
      ">>> namenum(1)\n",
      "'one'\n",
      ">>> namenum(2)\n",
      "'two'\n",
      ">>> namenum(3)\n",
      "'other'\n",
      "```\n"
     ]
    },
    {
     "cell_type": "markdown",
     "metadata": {},
     "source": [
      "__Functions as first class objects__\n",
      "\n",
      "We were able to bind our objects to the names \"pr\" and \"namenum\", in exactly the same way we might have bound the number 23 or the string \"spam\" to those names. \n",
      "\n",
      "The main thing we do with our first class objects, is pass them to our FP built-in functions map(), reduce(), and filter(). Each of these functions accepts a function object as its first argument. "
     ]
    },
    {
     "cell_type": "markdown",
     "metadata": {},
     "source": [
      "__Map__\n",
      "\n",
      "map() performs the passed function on each corresponding item in the specified list(s), and returns a list of results. \n",
      "\n",
      "\n",
      "__Reduce__\n",
      "\n",
      "reduce() performs the passed function on each subsequent item and an internal accumulator of a final result; for example, reduce(lambda n,m:n*m, range(1,10)) means \"factorial of 10\" (in other words, multiply each item by the product of previous multiplications). \n",
      "\n",
      "__Filter__\n",
      "\n",
      "filter() uses the passed function to \"evaluate\" each item in a list, and return a winnowed list of the items that pass the function test. "
     ]
    },
    {
     "cell_type": "markdown",
     "metadata": {},
     "source": [
      "__Functional looping in Python__\n",
      "\n",
      "Replacing loops is as simple as was replacing conditional blocks. `for` can be directly translated to `map()`. \n",
      "```python\n",
      "for e in lst:\n",
      "    func(e)      # statement-based loop\n",
      "map(func,lst)           # map()-based loop\n",
      "```"
     ]
    },
    {
     "cell_type": "code",
     "collapsed": false,
     "input": [
      "def fun_square(x):\n",
      "    return x*x\n",
      "\n",
      "lst = range(4, 20, 3)\n",
      "print lst\n",
      "\n",
      "#mapped_list = map(fun_square, lst)\n",
      "#print mapped_list\n",
      "\n",
      "def divisible_by_4(x):\n",
      "    return not x%4\n",
      "\n",
      "filtered_list = filter(divisible_by_4, lst)\n",
      "\n",
      "#print filtered_list\n",
      "\n",
      "def adder(x, y):\n",
      "    return x+y\n",
      "\n",
      "total = reduce(adder, lst)\n",
      "print total\n",
      "\n",
      "def mul(x, y):\n",
      "    return x*y\n",
      "\n",
      "factorial = reduce(mul, range(1,10))\n",
      "print factorial\n",
      "\n",
      "\n"
     ],
     "language": "python",
     "metadata": {},
     "outputs": [
      {
       "output_type": "stream",
       "stream": "stdout",
       "text": [
        "[4, 7, 10, 13, 16, 19]\n",
        "69\n",
        "362880\n"
       ]
      }
     ],
     "prompt_number": 21
    },
    {
     "cell_type": "code",
     "collapsed": false,
     "input": [
      "# uses of lambda\n",
      "x = range(15, 20)\n",
      "y = [str(a*a)[1:] for a in x]\n",
      "print x\n",
      "print y\n",
      "\n",
      "z = zip(x, y)\n",
      "print z\n",
      "\n",
      "z.sort(key=lambda x: x[1])\n",
      "print z\n",
      "\n",
      "\n"
     ],
     "language": "python",
     "metadata": {},
     "outputs": [
      {
       "output_type": "stream",
       "stream": "stdout",
       "text": [
        "[15, 16, 17, 18, 19]\n",
        "['25', '56', '89', '24', '61']\n",
        "[(15, '25'), (16, '56'), (17, '89'), (18, '24'), (19, '61')]\n",
        "[(18, '24'), (15, '25'), (16, '56'), (19, '61'), (17, '89')]\n"
       ]
      }
     ],
     "prompt_number": 28
    },
    {
     "cell_type": "code",
     "collapsed": false,
     "input": [
      "x = range(100)\n",
      "y = [a*a*a for a in x ]\n",
      "z = (a*a*a for a in x )\n",
      "print z\n",
      "for a in z:\n",
      "    print a, "
     ],
     "language": "python",
     "metadata": {},
     "outputs": [
      {
       "output_type": "stream",
       "stream": "stdout",
       "text": [
        "<generator object <genexpr> at 0x7f1e3958f0f0>\n",
        "0 1 8 27 64 125 216 343 512 729 1000 1331 1728 2197 2744 3375 4096 4913 5832 6859 8000 9261 10648 12167 13824 15625 17576 19683 21952 24389 27000 29791 32768 35937 39304 42875 46656 50653 54872 59319 64000 68921 74088 79507 85184 91125 97336 103823 110592 117649 125000 132651 140608 148877 157464 166375 175616 185193 195112 205379 216000 226981 238328 250047 262144 274625 287496 300763 314432 328509 343000 357911 373248 389017 405224 421875 438976 456533 474552 493039 512000 531441 551368 571787 592704 614125 636056 658503 681472 704969 729000 753571 778688 804357 830584 857375 884736 912673 941192 970299\n"
       ]
      }
     ],
     "prompt_number": 32
    }
   ],
   "metadata": {}
  }
 ]
}