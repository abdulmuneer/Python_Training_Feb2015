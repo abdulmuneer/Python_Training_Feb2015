{
 "metadata": {
  "name": "",
  "signature": "sha256:f42c688785930462f34cd0db35c025dbb94f2cccab05b39ab19e44371e504a3d"
 },
 "nbformat": 3,
 "nbformat_minor": 0,
 "worksheets": [
  {
   "cells": [
    {
     "cell_type": "markdown",
     "metadata": {},
     "source": [
      "Networking: ssh, telnet, http\n",
      "Subprocess \n"
     ]
    },
    {
     "cell_type": "code",
     "collapsed": false,
     "input": [
      "import subprocess\n",
      "ls = subprocess.Popen(\"ls\",\n",
      "                       shell=False,\n",
      "                       stdout=subprocess.PIPE,\n",
      "                       stderr=subprocess.PIPE)\n",
      "x = ls.stdout.readlines()\n",
      "print x"
     ],
     "language": "python",
     "metadata": {},
     "outputs": [
      {
       "output_type": "stream",
       "stream": "stdout",
       "text": [
        "['Day4_Session1.ipynb\\n', 'Day4_Session1.py\\n', 'Day4_Session2.ipynb\\n', 'Day4_Session2.py\\n', 'Day4_Session3.ipynb\\n', 'Day4_Session3.py\\n', 'Day4_Session4.ipynb\\n', 'Day4_Session4.py\\n', 'sample2.xml\\n', 'sample.xml\\n']\n"
       ]
      }
     ],
     "prompt_number": 1
    },
    {
     "cell_type": "code",
     "collapsed": false,
     "input": [
      "import subprocess\n",
      "ls = subprocess.Popen(\"lsss\",\n",
      "                       shell=False,\n",
      "                       stdout=subprocess.PIPE,\n",
      "                       stderr=subprocess.PIPE)\n",
      "x = ls.stdout.readlines()\n",
      "print x"
     ],
     "language": "python",
     "metadata": {},
     "outputs": [
      {
       "ename": "OSError",
       "evalue": "[Errno 2] No such file or directory",
       "output_type": "pyerr",
       "traceback": [
        "\u001b[1;31m---------------------------------------------------------------------------\u001b[0m\n\u001b[1;31mOSError\u001b[0m                                   Traceback (most recent call last)",
        "\u001b[1;32m<ipython-input-2-9c9839acaff8>\u001b[0m in \u001b[0;36m<module>\u001b[1;34m()\u001b[0m\n\u001b[0;32m      3\u001b[0m                        \u001b[0mshell\u001b[0m\u001b[1;33m=\u001b[0m\u001b[0mFalse\u001b[0m\u001b[1;33m,\u001b[0m\u001b[1;33m\u001b[0m\u001b[0m\n\u001b[0;32m      4\u001b[0m                        \u001b[0mstdout\u001b[0m\u001b[1;33m=\u001b[0m\u001b[0msubprocess\u001b[0m\u001b[1;33m.\u001b[0m\u001b[0mPIPE\u001b[0m\u001b[1;33m,\u001b[0m\u001b[1;33m\u001b[0m\u001b[0m\n\u001b[1;32m----> 5\u001b[1;33m                        stderr=subprocess.PIPE)\n\u001b[0m\u001b[0;32m      6\u001b[0m \u001b[0mx\u001b[0m \u001b[1;33m=\u001b[0m \u001b[0mls\u001b[0m\u001b[1;33m.\u001b[0m\u001b[0mstdout\u001b[0m\u001b[1;33m.\u001b[0m\u001b[0mreadlines\u001b[0m\u001b[1;33m(\u001b[0m\u001b[1;33m)\u001b[0m\u001b[1;33m\u001b[0m\u001b[0m\n\u001b[0;32m      7\u001b[0m \u001b[1;32mprint\u001b[0m \u001b[0mx\u001b[0m\u001b[1;33m\u001b[0m\u001b[0m\n",
        "\u001b[1;32m/usr/lib/python2.7/subprocess.pyc\u001b[0m in \u001b[0;36m__init__\u001b[1;34m(self, args, bufsize, executable, stdin, stdout, stderr, preexec_fn, close_fds, shell, cwd, env, universal_newlines, startupinfo, creationflags)\u001b[0m\n\u001b[0;32m    708\u001b[0m                                 \u001b[0mp2cread\u001b[0m\u001b[1;33m,\u001b[0m \u001b[0mp2cwrite\u001b[0m\u001b[1;33m,\u001b[0m\u001b[1;33m\u001b[0m\u001b[0m\n\u001b[0;32m    709\u001b[0m                                 \u001b[0mc2pread\u001b[0m\u001b[1;33m,\u001b[0m \u001b[0mc2pwrite\u001b[0m\u001b[1;33m,\u001b[0m\u001b[1;33m\u001b[0m\u001b[0m\n\u001b[1;32m--> 710\u001b[1;33m                                 errread, errwrite)\n\u001b[0m\u001b[0;32m    711\u001b[0m         \u001b[1;32mexcept\u001b[0m \u001b[0mException\u001b[0m\u001b[1;33m:\u001b[0m\u001b[1;33m\u001b[0m\u001b[0m\n\u001b[0;32m    712\u001b[0m             \u001b[1;31m# Preserve original exception in case os.close raises.\u001b[0m\u001b[1;33m\u001b[0m\u001b[1;33m\u001b[0m\u001b[0m\n",
        "\u001b[1;32m/usr/lib/python2.7/subprocess.pyc\u001b[0m in \u001b[0;36m_execute_child\u001b[1;34m(self, args, executable, preexec_fn, close_fds, cwd, env, universal_newlines, startupinfo, creationflags, shell, to_close, p2cread, p2cwrite, c2pread, c2pwrite, errread, errwrite)\u001b[0m\n\u001b[0;32m   1325\u001b[0m                         \u001b[1;32mraise\u001b[0m\u001b[1;33m\u001b[0m\u001b[0m\n\u001b[0;32m   1326\u001b[0m                 \u001b[0mchild_exception\u001b[0m \u001b[1;33m=\u001b[0m \u001b[0mpickle\u001b[0m\u001b[1;33m.\u001b[0m\u001b[0mloads\u001b[0m\u001b[1;33m(\u001b[0m\u001b[0mdata\u001b[0m\u001b[1;33m)\u001b[0m\u001b[1;33m\u001b[0m\u001b[0m\n\u001b[1;32m-> 1327\u001b[1;33m                 \u001b[1;32mraise\u001b[0m \u001b[0mchild_exception\u001b[0m\u001b[1;33m\u001b[0m\u001b[0m\n\u001b[0m\u001b[0;32m   1328\u001b[0m \u001b[1;33m\u001b[0m\u001b[0m\n\u001b[0;32m   1329\u001b[0m \u001b[1;33m\u001b[0m\u001b[0m\n",
        "\u001b[1;31mOSError\u001b[0m: [Errno 2] No such file or directory"
       ]
      }
     ],
     "prompt_number": 2
    },
    {
     "cell_type": "code",
     "collapsed": false,
     "input": [
      "import subprocess\n",
      "import sys\n",
      "\n",
      "HOST=\"localhost\"\n",
      "# Ports are handled in ~/.ssh/config since we use OpenSSH\n",
      "COMMAND=\"uname -a\"\n",
      "\n",
      "ssh = subprocess.Popen([\"ssh\", \"%s\" % HOST, COMMAND],\n",
      "                       shell=False,\n",
      "                       stdout=subprocess.PIPE,\n",
      "                       stderr=subprocess.PIPE)\n",
      "result = ssh.stdout.readlines()\n",
      "if result == []:\n",
      "    error = ssh.stderr.readlines()\n",
      "    print >>sys.stderr, \"ERROR: %s\" % error\n",
      "else:\n",
      "    print result\n",
      "    \n"
     ],
     "language": "python",
     "metadata": {},
     "outputs": [
      {
       "output_type": "stream",
       "stream": "stdout",
       "text": [
        "['Linux amuneer-work 3.13.0-46-generic #77-Ubuntu SMP Mon Mar 2 18:23:39 UTC 2015 x86_64 x86_64 x86_64 GNU/Linux\\n']\n"
       ]
      }
     ],
     "prompt_number": 4
    },
    {
     "cell_type": "markdown",
     "metadata": {},
     "source": [
      "###Fabric\n",
      "\n",
      "Fabric is a library and command-line tool for streamlining the use of SSH for application deployment or systems administration tasks.\n",
      "\n",
      "It provides a basic suite of operations for executing local or remote shell commands (normally or via sudo) and uploading/downloading files, as well as auxiliary functionality such as prompting the running user for input, or aborting execution.\n",
      "####Basic Usage\n",
      "\n",
      "Typical use involves creating a Python file named fabfile.py, containing one or more functions, then executing them via the fab command-line tool. Below is a small but complete fabfile.py containing a single task:"
     ]
    },
    {
     "cell_type": "code",
     "collapsed": false,
     "input": [
      "from fabric.api import run\n",
      "\n",
      "def host_type():\n",
      "    run('uname -s')\n"
     ],
     "language": "python",
     "metadata": {},
     "outputs": []
    },
    {
     "cell_type": "markdown",
     "metadata": {},
     "source": [
      "###paramiko\n"
     ]
    },
    {
     "cell_type": "code",
     "collapsed": false,
     "input": [
      "import paramiko\n",
      "import time\n",
      "def disable_paging(remote_conn):\n",
      "    '''Disable paging on a Cisco router'''\n",
      "\n",
      "    remote_conn.send(\"terminal length 0\\n\")\n",
      "    time.sleep(1)\n",
      "    # Clear the buffer on the screen\n",
      "    output = remote_conn.recv(1000)\n",
      "    return output\n",
      "\n",
      "if __name__ == '__main__':\n",
      "\n",
      "\n",
      "    # VARIABLES THAT NEED CHANGED\n",
      "    ip = '1.1.1.16'\n",
      "    username = 'testuser'\n",
      "    password = 'password'\n",
      "\n",
      "    # Create instance of SSHClient object\n",
      "    remote_conn_pre = paramiko.SSHClient()\n",
      "\n",
      "    # Automatically add untrusted hosts (make sure okay for security policy in your environment)\n",
      "    remote_conn_pre.set_missing_host_key_policy(\n",
      "         paramiko.AutoAddPolicy())\n",
      "\n",
      "    # initiate SSH connection\n",
      "    remote_conn_pre.connect(ip, username=username, password=password)\n",
      "    print \"SSH connection established to %s\" % ip\n",
      "\n",
      "    # Use invoke_shell to establish an 'interactive session'\n",
      "    remote_conn = remote_conn_pre.invoke_shell()\n",
      "    print \"Interactive SSH session established\"\n",
      "\n",
      "    # Strip the initial router prompt\n",
      "    output = remote_conn.recv(1000)\n",
      "\n",
      "    # See what we have\n",
      "    print output\n",
      "\n",
      "    # Turn off paging\n",
      "    disable_paging(remote_conn)\n",
      "\n",
      "    # Now let's try to send the router a command\n",
      "    remote_conn.send(\"\\n\")\n",
      "    remote_conn.send(\"show ip int brief\\n\")\n",
      "\n",
      "    # Wait for the command to complete\n",
      "    time.sleep(2)\n",
      "    \n",
      "    output = remote_conn.recv(5000)\n",
      "    print output"
     ],
     "language": "python",
     "metadata": {},
     "outputs": []
    },
    {
     "cell_type": "markdown",
     "metadata": {},
     "source": [
      "###telnet"
     ]
    },
    {
     "cell_type": "code",
     "collapsed": false,
     "input": [
      "#telnet\n",
      "\n",
      "import getpass\n",
      "import sys\n",
      "import telnetlib\n",
      "\n",
      "HOST = \"hostname\"\n",
      "\n",
      "user = raw_input(\"Enter your remote account: \")\n",
      "\n",
      "password = getpass.getpass()\n",
      "\n",
      "tn = telnetlib.Telnet(HOST)\n",
      "\n",
      "tn.read_until(\"login: \")\n",
      "\n",
      "tn.write(user + \"\\n\")\n",
      "\n",
      "if password:\n",
      "    tn.read_until(\"Password: \")\n",
      "    tn.write(password + \"\\n\")\n",
      "\n",
      "tn.write(\"ls\\n\")\n",
      "\n",
      "tn.write(\"exit\\n\")\n",
      "\n",
      "print tn.read_all()"
     ],
     "language": "python",
     "metadata": {},
     "outputs": []
    },
    {
     "cell_type": "markdown",
     "metadata": {},
     "source": [
      "###http\n"
     ]
    },
    {
     "cell_type": "code",
     "collapsed": false,
     "input": [
      "import requests"
     ],
     "language": "python",
     "metadata": {},
     "outputs": [],
     "prompt_number": 6
    },
    {
     "cell_type": "code",
     "collapsed": false,
     "input": [
      "x = requests.get(\"http://0.0.0.0:9999/\")\n",
      "print dir(x)"
     ],
     "language": "python",
     "metadata": {},
     "outputs": [
      {
       "output_type": "stream",
       "stream": "stdout",
       "text": [
        "['__attrs__', '__bool__', '__class__', '__delattr__', '__dict__', '__doc__', '__format__', '__getattribute__', '__getstate__', '__hash__', '__init__', '__iter__', '__module__', '__new__', '__nonzero__', '__reduce__', '__reduce_ex__', '__repr__', '__setattr__', '__setstate__', '__sizeof__', '__str__', '__subclasshook__', '__weakref__', '_content', '_content_consumed', 'apparent_encoding', 'close', 'connection', 'content', 'cookies', 'elapsed', 'encoding', 'headers', 'history', 'is_permanent_redirect', 'is_redirect', 'iter_content', 'iter_lines', 'json', 'links', 'ok', 'raise_for_status', 'raw', 'reason', 'request', 'status_code', 'text', 'url']\n"
       ]
      }
     ],
     "prompt_number": 9
    },
    {
     "cell_type": "code",
     "collapsed": false,
     "input": [
      "print x.status_code"
     ],
     "language": "python",
     "metadata": {},
     "outputs": [
      {
       "output_type": "stream",
       "stream": "stdout",
       "text": [
        "200\n"
       ]
      }
     ],
     "prompt_number": 11
    },
    {
     "cell_type": "code",
     "collapsed": false,
     "input": [
      "print x.content"
     ],
     "language": "python",
     "metadata": {},
     "outputs": [
      {
       "output_type": "stream",
       "stream": "stdout",
       "text": [
        "<!DOCTYPE html PUBLIC \"-//W3C//DTD HTML 3.2 Final//EN\"><html>\n",
        "<title>Directory listing for /</title>\n",
        "<body>\n",
        "<h2>Directory listing for /</h2>\n",
        "<hr>\n",
        "<ul>\n",
        "<li><a href=\".ipynb_checkpoints/\">.ipynb_checkpoints/</a>\n",
        "<li><a href=\"fsnotifier\">fsnotifier</a>\n",
        "<li><a href=\"fsnotifier64\">fsnotifier64</a>\n",
        "<li><a href=\"idea.properties\">idea.properties</a>\n",
        "<li><a href=\"inspect.sh\">inspect.sh</a>\n",
        "<li><a href=\"libyjpagent-linux.so\">libyjpagent-linux.so</a>\n",
        "<li><a href=\"libyjpagent-linux64.so\">libyjpagent-linux64.so</a>\n",
        "<li><a href=\"log.xml\">log.xml</a>\n",
        "<li><a href=\"nohup.out\">nohup.out</a>\n",
        "<li><a href=\"pycharm.png\">pycharm.png</a>\n",
        "<li><a href=\"pycharm.sh\">pycharm.sh</a>\n",
        "<li><a href=\"pycharm.vmoptions\">pycharm.vmoptions</a>\n",
        "<li><a href=\"pycharm64.vmoptions\">pycharm64.vmoptions</a>\n",
        "</ul>\n",
        "<hr>\n",
        "</body>\n",
        "</html>\n",
        "\n"
       ]
      }
     ],
     "prompt_number": 13
    },
    {
     "cell_type": "code",
     "collapsed": false,
     "input": [
      "help(requests.post)"
     ],
     "language": "python",
     "metadata": {},
     "outputs": [
      {
       "output_type": "stream",
       "stream": "stdout",
       "text": [
        "Help on function post in module requests.api:\n",
        "\n",
        "post(url, data=None, json=None, **kwargs)\n",
        "    Sends a POST request. Returns :class:`Response` object.\n",
        "    \n",
        "    :param url: URL for the new :class:`Request` object.\n",
        "    :param data: (optional) Dictionary, bytes, or file-like object to send in the body of the :class:`Request`.\n",
        "    :param json: (optional) json data to send in the body of the :class:`Request`.\n",
        "    :param \\*\\*kwargs: Optional arguments that ``request`` takes.\n",
        "\n"
       ]
      }
     ],
     "prompt_number": 15
    },
    {
     "cell_type": "code",
     "collapsed": false,
     "input": [
      "print x.text"
     ],
     "language": "python",
     "metadata": {},
     "outputs": [
      {
       "output_type": "stream",
       "stream": "stdout",
       "text": [
        "<!DOCTYPE html PUBLIC \"-//W3C//DTD HTML 3.2 Final//EN\"><html>\n",
        "<title>Directory listing for /</title>\n",
        "<body>\n",
        "<h2>Directory listing for /</h2>\n",
        "<hr>\n",
        "<ul>\n",
        "<li><a href=\".ipynb_checkpoints/\">.ipynb_checkpoints/</a>\n",
        "<li><a href=\"fsnotifier\">fsnotifier</a>\n",
        "<li><a href=\"fsnotifier64\">fsnotifier64</a>\n",
        "<li><a href=\"idea.properties\">idea.properties</a>\n",
        "<li><a href=\"inspect.sh\">inspect.sh</a>\n",
        "<li><a href=\"libyjpagent-linux.so\">libyjpagent-linux.so</a>\n",
        "<li><a href=\"libyjpagent-linux64.so\">libyjpagent-linux64.so</a>\n",
        "<li><a href=\"log.xml\">log.xml</a>\n",
        "<li><a href=\"nohup.out\">nohup.out</a>\n",
        "<li><a href=\"pycharm.png\">pycharm.png</a>\n",
        "<li><a href=\"pycharm.sh\">pycharm.sh</a>\n",
        "<li><a href=\"pycharm.vmoptions\">pycharm.vmoptions</a>\n",
        "<li><a href=\"pycharm64.vmoptions\">pycharm64.vmoptions</a>\n",
        "</ul>\n",
        "<hr>\n",
        "</body>\n",
        "</html>\n",
        "\n"
       ]
      }
     ],
     "prompt_number": 17
    },
    {
     "cell_type": "code",
     "collapsed": false,
     "input": [
      "y= requests.post('http://0.0.0.0:9999/')"
     ],
     "language": "python",
     "metadata": {},
     "outputs": [],
     "prompt_number": 18
    }
   ],
   "metadata": {}
  }
 ]
}