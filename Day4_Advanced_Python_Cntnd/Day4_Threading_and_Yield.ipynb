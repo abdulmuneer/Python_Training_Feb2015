{
 "metadata": {
  "name": "",
  "signature": "sha256:6a41a511201fe9d6863799089ea80cb47f3378833a5e9baeb2347fc12fb5675c"
 },
 "nbformat": 3,
 "nbformat_minor": 0,
 "worksheets": [
  {
   "cells": [
    {
     "cell_type": "markdown",
     "metadata": {},
     "source": [
      "#Threading\n",
      "\n",
      "* The threading module builds on the low-level features of thread to make working with threads even easier and more pythonic. \n",
      "* Using threads allows a program to run multiple operations concurrently in the same process space.\n"
     ]
    },
    {
     "cell_type": "markdown",
     "metadata": {},
     "source": [
      "####Thread Objects\n",
      "\n"
     ]
    },
    {
     "cell_type": "code",
     "collapsed": false,
     "input": [
      "import threading\n",
      "\n",
      "def worker(num):\n",
      "    \"\"\"thread worker function\"\"\"\n",
      "    print 'Worker: %s' % num\n",
      "    return\n",
      "\n",
      "threads = []\n",
      "for i in range(5):\n",
      "    t = threading.Thread(target=worker, args=(i,))\n",
      "    threads.append(t)\n",
      "    t.start()\n"
     ],
     "language": "python",
     "metadata": {},
     "outputs": [
      {
       "output_type": "stream",
       "stream": "stdout",
       "text": [
        "Worker: 0\n",
        "Worker: 1\n",
        "Worker: 2\n",
        "Worker: 3\n",
        "Worker: 4\n"
       ]
      }
     ],
     "prompt_number": 1
    },
    {
     "cell_type": "code",
     "collapsed": false,
     "input": [
      "help(threading.Thread)"
     ],
     "language": "python",
     "metadata": {},
     "outputs": [
      {
       "output_type": "stream",
       "stream": "stdout",
       "text": [
        "Help on class Thread in module threading:\n",
        "\n",
        "class Thread(_Verbose)\n",
        " |  A class that represents a thread of control.\n",
        " |  \n",
        " |  This class can be safely subclassed in a limited fashion.\n",
        " |  \n",
        " |  Method resolution order:\n",
        " |      Thread\n",
        " |      _Verbose\n",
        " |      __builtin__.object\n",
        " |  \n",
        " |  Methods defined here:\n",
        " |  \n",
        " |  __init__(self, group=None, target=None, name=None, args=(), kwargs=None, verbose=None)\n",
        " |      This constructor should always be called with keyword arguments. Arguments are:\n",
        " |      \n",
        " |      *group* should be None; reserved for future extension when a ThreadGroup\n",
        " |      class is implemented.\n",
        " |      \n",
        " |      *target* is the callable object to be invoked by the run()\n",
        " |      method. Defaults to None, meaning nothing is called.\n",
        " |      \n",
        " |      *name* is the thread name. By default, a unique name is constructed of\n",
        " |      the form \"Thread-N\" where N is a small decimal number.\n",
        " |      \n",
        " |      *args* is the argument tuple for the target invocation. Defaults to ().\n",
        " |      \n",
        " |      *kwargs* is a dictionary of keyword arguments for the target\n",
        " |      invocation. Defaults to {}.\n",
        " |      \n",
        " |      If a subclass overrides the constructor, it must make sure to invoke\n",
        " |      the base class constructor (Thread.__init__()) before doing anything\n",
        " |      else to the thread.\n",
        " |  \n",
        " |  __repr__(self)\n",
        " |  \n",
        " |  getName(self)\n",
        " |  \n",
        " |  isAlive(self)\n",
        " |      Return whether the thread is alive.\n",
        " |      \n",
        " |      This method returns True just before the run() method starts until just\n",
        " |      after the run() method terminates. The module function enumerate()\n",
        " |      returns a list of all alive threads.\n",
        " |  \n",
        " |  isDaemon(self)\n",
        " |  \n",
        " |  is_alive = isAlive(self)\n",
        " |  \n",
        " |  join(self, timeout=None)\n",
        " |      Wait until the thread terminates.\n",
        " |      \n",
        " |      This blocks the calling thread until the thread whose join() method is\n",
        " |      called terminates -- either normally or through an unhandled exception\n",
        " |      or until the optional timeout occurs.\n",
        " |      \n",
        " |      When the timeout argument is present and not None, it should be a\n",
        " |      floating point number specifying a timeout for the operation in seconds\n",
        " |      (or fractions thereof). As join() always returns None, you must call\n",
        " |      isAlive() after join() to decide whether a timeout happened -- if the\n",
        " |      thread is still alive, the join() call timed out.\n",
        " |      \n",
        " |      When the timeout argument is not present or None, the operation will\n",
        " |      block until the thread terminates.\n",
        " |      \n",
        " |      A thread can be join()ed many times.\n",
        " |      \n",
        " |      join() raises a RuntimeError if an attempt is made to join the current\n",
        " |      thread as that would cause a deadlock. It is also an error to join() a\n",
        " |      thread before it has been started and attempts to do so raises the same\n",
        " |      exception.\n",
        " |  \n",
        " |  run(self)\n",
        " |      Method representing the thread's activity.\n",
        " |      \n",
        " |      You may override this method in a subclass. The standard run() method\n",
        " |      invokes the callable object passed to the object's constructor as the\n",
        " |      target argument, if any, with sequential and keyword arguments taken\n",
        " |      from the args and kwargs arguments, respectively.\n",
        " |  \n",
        " |  setDaemon(self, daemonic)\n",
        " |  \n",
        " |  setName(self, name)\n",
        " |  \n",
        " |  start(self)\n",
        " |      Start the thread's activity.\n",
        " |      \n",
        " |      It must be called at most once per thread object. It arranges for the\n",
        " |      object's run() method to be invoked in a separate thread of control.\n",
        " |      \n",
        " |      This method will raise a RuntimeError if called more than once on the\n",
        " |      same thread object.\n",
        " |  \n",
        " |  ----------------------------------------------------------------------\n",
        " |  Data descriptors defined here:\n",
        " |  \n",
        " |  daemon\n",
        " |      A boolean value indicating whether this thread is a daemon thread (True) or not (False).\n",
        " |      \n",
        " |      This must be set before start() is called, otherwise RuntimeError is\n",
        " |      raised. Its initial value is inherited from the creating thread; the\n",
        " |      main thread is not a daemon thread and therefore all threads created in\n",
        " |      the main thread default to daemon = False.\n",
        " |      \n",
        " |      The entire Python program exits when no alive non-daemon threads are\n",
        " |      left.\n",
        " |  \n",
        " |  ident\n",
        " |      Thread identifier of this thread or None if it has not been started.\n",
        " |      \n",
        " |      This is a nonzero integer. See the thread.get_ident() function. Thread\n",
        " |      identifiers may be recycled when a thread exits and another thread is\n",
        " |      created. The identifier is available even after the thread has exited.\n",
        " |  \n",
        " |  name\n",
        " |      A string used for identification purposes only.\n",
        " |      \n",
        " |      It has no semantics. Multiple threads may be given the same name. The\n",
        " |      initial name is set by the constructor.\n",
        " |  \n",
        " |  ----------------------------------------------------------------------\n",
        " |  Data descriptors inherited from _Verbose:\n",
        " |  \n",
        " |  __dict__\n",
        " |      dictionary for instance variables (if defined)\n",
        " |  \n",
        " |  __weakref__\n",
        " |      list of weak references to the object (if defined)\n",
        "\n"
       ]
      }
     ],
     "prompt_number": 2
    },
    {
     "cell_type": "markdown",
     "metadata": {},
     "source": [
      "####Determining the Current Thread\n",
      "\n",
      "* Using arguments to identify or name the thread is cumbersome, and unnecessary. \n",
      "* Each Thread instance has a name with a default value that can be changed as the thread is created. \n",
      "* Naming threads is useful in server processes with multiple service threads handling different operations.\n",
      "\n"
     ]
    },
    {
     "cell_type": "code",
     "collapsed": false,
     "input": [
      "\n",
      "import threading\n",
      "import time\n",
      "\n",
      "def worker():\n",
      "    print threading.currentThread().getName(), 'Starting'\n",
      "    time.sleep(2)\n",
      "    print threading.currentThread().getName(), 'Exiting'\n",
      "\n",
      "def my_service():\n",
      "    print threading.currentThread().getName(), 'Starting'\n",
      "    time.sleep(3)\n",
      "    print threading.currentThread().getName(), 'Exiting'\n",
      "\n",
      "t = threading.Thread(name='my_service', target=my_service)\n",
      "w = threading.Thread(name='worker', target=worker)\n",
      "w2 = threading.Thread(target=worker) # use default name\n",
      "\n",
      "w.start()\n",
      "w2.start()\n",
      "t.start()\n"
     ],
     "language": "python",
     "metadata": {},
     "outputs": [
      {
       "output_type": "stream",
       "stream": "stdout",
       "text": [
        "worker Starting\n",
        "Thread-8 Starting\n",
        "my_service Starting\n"
       ]
      },
      {
       "output_type": "stream",
       "stream": "stdout",
       "text": [
        "worker Exiting\n",
        "Thread-8 Exiting\n",
        "my_service Exiting\n"
       ]
      }
     ],
     "prompt_number": 3
    },
    {
     "cell_type": "markdown",
     "metadata": {},
     "source": [
      "* Most programs do not use print to debug.\n",
      "* The __logging__ module supports embedding the thread name in every log message using the formatter code %(threadName)s. \n",
      "* Including thread names in log messages makes it easier to trace those messages back to their source.\n"
     ]
    },
    {
     "cell_type": "code",
     "collapsed": false,
     "input": [
      "import logging\n",
      "import threading\n",
      "import time\n",
      "\n",
      "logging.basicConfig(level=logging.DEBUG,\n",
      "                    format='[%(levelname)s] (%(threadName)-10s) %(message)s',\n",
      "                    )\n",
      "\n",
      "def worker():\n",
      "    logging.debug('Starting')\n",
      "    time.sleep(2)\n",
      "    logging.debug('Exiting')\n",
      "\n",
      "def my_service():\n",
      "    logging.debug('Starting')\n",
      "    time.sleep(3)\n",
      "    logging.debug('Exiting')\n",
      "\n",
      "t = threading.Thread(name='my_service', target=my_service)\n",
      "w = threading.Thread(name='worker', target=worker)\n",
      "w2 = threading.Thread(target=worker) # use default name\n",
      "\n",
      "w.start()\n",
      "w2.start()\n",
      "t.start()\n"
     ],
     "language": "python",
     "metadata": {},
     "outputs": [],
     "prompt_number": 5
    },
    {
     "cell_type": "markdown",
     "metadata": {},
     "source": [
      "* __logging__ is also thread-safe, so messages from different threads are kept distinct in the output."
     ]
    },
    {
     "cell_type": "markdown",
     "metadata": {},
     "source": [
      "### Subclassing Thread\n",
      "\n",
      "* At start-up, a Thread does some basic initialization and then calls its __run()__ method, which calls the target function passed to the constructor. \n",
      "* To create a subclass of Thread, override __run()__ to do whatever is necessary\n",
      "\n"
     ]
    },
    {
     "cell_type": "code",
     "collapsed": false,
     "input": [
      "import threading\n",
      "import logging\n",
      "\n",
      "logging.basicConfig(level=logging.DEBUG,\n",
      "                    format='(%(threadName)-10s) %(message)s',\n",
      "                    )\n",
      "\n",
      "class MyThread(threading.Thread):\n",
      "\n",
      "    def run(self):\n",
      "        logging.debug('running')\n",
      "        return\n",
      "\n",
      "for i in range(5):\n",
      "    t = MyThread()\n",
      "    t.start()\n",
      "    "
     ],
     "language": "python",
     "metadata": {},
     "outputs": []
    },
    {
     "cell_type": "code",
     "collapsed": false,
     "input": [
      "import threading\n",
      "import logging\n",
      "\n",
      "logging.basicConfig(level=logging.DEBUG,\n",
      "                    format='(%(threadName)-10s) %(message)s',\n",
      "                    )\n",
      "\n",
      "class MyThreadWithArgs(threading.Thread):\n",
      "\n",
      "    def __init__(self, group=None, target=None, name=None,\n",
      "                 args=(), kwargs=None, verbose=None):\n",
      "        threading.Thread.__init__(self, group=group, target=target, name=name,\n",
      "                                  verbose=verbose)\n",
      "        self.args = args\n",
      "        self.kwargs = kwargs\n",
      "        return\n",
      "\n",
      "    def run(self):\n",
      "        logging.debug('running with %s and %s', self.args, self.kwargs)\n",
      "        return\n",
      "\n",
      "for i in range(5):\n",
      "    t = MyThreadWithArgs(args=(i,), kwargs={'a':'A', 'b':'B'})\n",
      "    t.start()"
     ],
     "language": "python",
     "metadata": {},
     "outputs": [],
     "prompt_number": 6
    },
    {
     "cell_type": "markdown",
     "metadata": {},
     "source": [
      "##Yield\n"
     ]
    },
    {
     "cell_type": "code",
     "collapsed": false,
     "input": [
      "def get_primes(input_list):\n",
      "    result_list = list()\n",
      "    for element in input_list:\n",
      "        if is_prime(element):\n",
      "            result_list.append()\n",
      "\n",
      "    return result_list\n",
      "\n",
      "# or better yet...\n",
      "\n",
      "def get_primes(input_list):\n",
      "    return (element for element in input_list if is_prime(element))\n",
      "\n",
      "# not germane to the example, but here's a possible implementation of\n",
      "# is_prime...\n",
      "\n",
      "def is_prime(number):\n",
      "    if number > 1:\n",
      "        if number == 2:\n",
      "            return True\n",
      "        if number % 2 == 0:\n",
      "            return False\n",
      "        for current in range(3, int(math.sqrt(number) + 1), 2):\n",
      "            if number % current == 0: \n",
      "                return False\n",
      "        return True\n",
      "    return False\n",
      "\n"
     ],
     "language": "python",
     "metadata": {},
     "outputs": []
    },
    {
     "cell_type": "code",
     "collapsed": false,
     "input": [
      "def string_generator():\n",
      "    x = ['a', 'b', 'c']\n",
      "    for i in x:\n",
      "        yield(i)\n",
      "        \n",
      "        \n",
      "strings = string_generator()\n",
      "print strings\n"
     ],
     "language": "python",
     "metadata": {},
     "outputs": [
      {
       "output_type": "stream",
       "stream": "stdout",
       "text": [
        "<generator object string_generator at 0x7f99386a45f0>\n"
       ]
      }
     ],
     "prompt_number": 13
    },
    {
     "cell_type": "code",
     "collapsed": false,
     "input": [
      "print strings.next()"
     ],
     "language": "python",
     "metadata": {},
     "outputs": [
      {
       "ename": "StopIteration",
       "evalue": "",
       "output_type": "pyerr",
       "traceback": [
        "\u001b[1;31m---------------------------------------------------------------------------\u001b[0m\n\u001b[1;31mStopIteration\u001b[0m                             Traceback (most recent call last)",
        "\u001b[1;32m<ipython-input-17-24a43b3d08a0>\u001b[0m in \u001b[0;36m<module>\u001b[1;34m()\u001b[0m\n\u001b[1;32m----> 1\u001b[1;33m \u001b[1;32mprint\u001b[0m \u001b[0mstrings\u001b[0m\u001b[1;33m.\u001b[0m\u001b[0mnext\u001b[0m\u001b[1;33m(\u001b[0m\u001b[1;33m)\u001b[0m\u001b[1;33m\u001b[0m\u001b[0m\n\u001b[0m",
        "\u001b[1;31mStopIteration\u001b[0m: "
       ]
      }
     ],
     "prompt_number": 17
    },
    {
     "cell_type": "code",
     "collapsed": false,
     "input": [
      "for i in xrange(10):\n",
      "    print i, "
     ],
     "language": "python",
     "metadata": {},
     "outputs": [
      {
       "output_type": "stream",
       "stream": "stdout",
       "text": [
        "0 1 2 3 4 5 6 7 8 9\n"
       ]
      }
     ],
     "prompt_number": 18
    },
    {
     "cell_type": "code",
     "collapsed": false,
     "input": [
      "def string_generator():\n",
      "    x = ['a', 'b', 'c']\n",
      "    for i in x:\n",
      "        yield(i)\n",
      "    return \"Done.. \"\n",
      "strings = string_generator()\n",
      "\n",
      "for i in strings:\n",
      "    print i, "
     ],
     "language": "python",
     "metadata": {},
     "outputs": [
      {
       "ename": "SyntaxError",
       "evalue": "'return' with argument inside generator (<ipython-input-20-1ca004da8d3b>, line 5)",
       "output_type": "pyerr",
       "traceback": [
        "\u001b[1;36m  File \u001b[1;32m\"<ipython-input-20-1ca004da8d3b>\"\u001b[1;36m, line \u001b[1;32m5\u001b[0m\n\u001b[1;33m    return \"Done.. \"\u001b[0m\n\u001b[1;31mSyntaxError\u001b[0m\u001b[1;31m:\u001b[0m 'return' with argument inside generator\n"
       ]
      }
     ],
     "prompt_number": 20
    },
    {
     "cell_type": "code",
     "collapsed": false,
     "input": [
      "def cat_function():\n",
      "    x = 1\n",
      "    y = 1\n",
      "    while x:\n",
      "        y = yield('1'*y)\n",
      "        \n",
      "#         if x == 'q':\n",
      "#             break\n",
      "\n",
      "cat = cat_function()\n",
      "\n",
      "# print cat.next() "
     ],
     "language": "python",
     "metadata": {},
     "outputs": [],
     "prompt_number": 71
    },
    {
     "cell_type": "code",
     "collapsed": false,
     "input": [
      "cat.next()"
     ],
     "language": "python",
     "metadata": {},
     "outputs": [
      {
       "metadata": {},
       "output_type": "pyout",
       "prompt_number": 72,
       "text": [
        "'1'"
       ]
      }
     ],
     "prompt_number": 72
    },
    {
     "cell_type": "code",
     "collapsed": false,
     "input": [
      "cat.send(10)"
     ],
     "language": "python",
     "metadata": {},
     "outputs": [
      {
       "metadata": {},
       "output_type": "pyout",
       "prompt_number": 73,
       "text": [
        "'1111111111'"
       ]
      }
     ],
     "prompt_number": 73
    },
    {
     "cell_type": "code",
     "collapsed": false,
     "input": [
      "cat.send(5)"
     ],
     "language": "python",
     "metadata": {},
     "outputs": [
      {
       "metadata": {},
       "output_type": "pyout",
       "prompt_number": 76,
       "text": [
        "'11111'"
       ]
      }
     ],
     "prompt_number": 76
    },
    {
     "cell_type": "code",
     "collapsed": false,
     "input": [
      "\n",
      "def appender(num):\n",
      "    li1 = []\n",
      "    for i in xrange(num):\n",
      "        li1.append(i)\n",
      "    print \"Appended\"\n",
      "    \n",
      "def inserter(num):\n",
      "    li1 = []\n",
      "    for i in xrange(num):\n",
      "        li1.insert(0, i)\n",
      "    print \"Inserted\"    "
     ],
     "language": "python",
     "metadata": {},
     "outputs": [],
     "prompt_number": 84
    },
    {
     "cell_type": "code",
     "collapsed": false,
     "input": [
      "appender(100000)"
     ],
     "language": "python",
     "metadata": {},
     "outputs": [
      {
       "output_type": "stream",
       "stream": "stdout",
       "text": [
        "Appended\n"
       ]
      }
     ],
     "prompt_number": 86
    },
    {
     "cell_type": "code",
     "collapsed": false,
     "input": [
      "inserter(100000)"
     ],
     "language": "python",
     "metadata": {},
     "outputs": [
      {
       "output_type": "stream",
       "stream": "stdout",
       "text": [
        "Inserted\n"
       ]
      }
     ],
     "prompt_number": 88
    }
   ],
   "metadata": {}
  }
 ]
}