{
 "metadata": {
  "name": "",
  "signature": "sha256:01c195cc67d2e89e22be1655a6c32f1095ce78568f7ce0d53bfb20d231ba89e9"
 },
 "nbformat": 3,
 "nbformat_minor": 0,
 "worksheets": [
  {
   "cells": [
    {
     "cell_type": "markdown",
     "metadata": {},
     "source": [
      "Parsing\n",
      "1. ConfigParser\n",
      "2. HTML Parser\n",
      "3. XML Parser\n",
      "4. JSON"
     ]
    },
    {
     "cell_type": "markdown",
     "metadata": {},
     "source": [
      "###Config Parser\n",
      "\n",
      "* A sample configuration file with section \u201cbug_tracker\u201d and three options would look like:\n",
      "```\n",
      "[bug_tracker]\n",
      "url = http://localhost:8080/bugs/\n",
      "username = dhellmann\n",
      "password = SECRET\n",
      "```\n",
      "\n",
      "* e.g.: Backup all MySQL databases, one in each file with a timestamp on the end.\n",
      "\n",
      "```python\n",
      "#Importing the modules\n",
      "import os\n",
      "import ConfigParser\n",
      "import time\n",
      "\n",
      "# On Debian, /etc/mysql/debian.cnf contains 'root' a like login and password.\n",
      "config = ConfigParser.ConfigParser()\n",
      "config.read(\"/etc/mysql/debian.cnf\")\n",
      "username = config.get('client', 'user')\n",
      "password = config.get('client', 'password')\n",
      "hostname = config.get('client', 'host')\n",
      "filestamp = time.strftime('%Y-%m-%d')\n",
      "\n",
      "# Get a list of databases with :\n",
      "database_list_command=\"mysql -u %s -p%s -h %s --silent -N -e 'show databases'\" % (username, password, hostname)\n",
      "for database in os.popen(database_list_command).readlines():\n",
      "    database = database.strip()\n",
      "    if database == 'information_schema':\n",
      "        continue\n",
      "    if database == 'performance_schema':\n",
      "        continue\n",
      "    filename = \"/backups/mysql/%s-%s.sql\" % (database, filestamp)\n",
      "    os.popen(\"mysqldump --single-transaction -u %s -p%s -h %s -d %s | gzip -c > %s.gz\" % (username, password, hostname, database, filename))\n",
      "  \n",
      "```\n",
      "\n"
     ]
    },
    {
     "cell_type": "code",
     "collapsed": false,
     "input": [
      "import ConfigParser\n",
      "cfg = ConfigParser.ConfigParser()\n",
      "cfg.read('config.cfg')\n",
      "print cfg\n",
      "\n",
      "print dir(cfg)"
     ],
     "language": "python",
     "metadata": {},
     "outputs": [
      {
       "output_type": "stream",
       "stream": "stdout",
       "text": [
        "<ConfigParser.ConfigParser instance at 0x7f95b04677e8>\n",
        "['OPTCRE', 'OPTCRE_NV', 'SECTCRE', '_KEYCRE', '__doc__', '__init__', '__module__', '_boolean_states', '_defaults', '_dict', '_get', '_interpolate', '_interpolation_replace', '_optcre', '_read', '_sections', 'add_section', 'defaults', 'get', 'getboolean', 'getfloat', 'getint', 'has_option', 'has_section', 'items', 'options', 'optionxform', 'read', 'readfp', 'remove_option', 'remove_section', 'sections', 'set', 'write']\n"
       ]
      }
     ],
     "prompt_number": 3
    },
    {
     "cell_type": "code",
     "collapsed": true,
     "input": [
      "print cfg.sections()"
     ],
     "language": "python",
     "metadata": {},
     "outputs": [
      {
       "output_type": "stream",
       "stream": "stdout",
       "text": [
        "['section1', 'section2']\n"
       ]
      }
     ],
     "prompt_number": 6
    },
    {
     "cell_type": "code",
     "collapsed": false,
     "input": [
      "print cfg.has_section('test')"
     ],
     "language": "python",
     "metadata": {},
     "outputs": [
      {
       "output_type": "stream",
       "stream": "stdout",
       "text": [
        "False\n"
       ]
      }
     ],
     "prompt_number": 8
    },
    {
     "cell_type": "code",
     "collapsed": false,
     "input": [
      "print cfg.get('section1', 'bb')"
     ],
     "language": "python",
     "metadata": {},
     "outputs": [
      {
       "ename": "NoOptionError",
       "evalue": "No option 'bb' in section: 'section1'",
       "output_type": "pyerr",
       "traceback": [
        "\u001b[1;31m---------------------------------------------------------------------------\u001b[0m\n\u001b[1;31mNoOptionError\u001b[0m                             Traceback (most recent call last)",
        "\u001b[1;32m<ipython-input-10-2174b63dd1fc>\u001b[0m in \u001b[0;36m<module>\u001b[1;34m()\u001b[0m\n\u001b[1;32m----> 1\u001b[1;33m \u001b[1;32mprint\u001b[0m \u001b[0mcfg\u001b[0m\u001b[1;33m.\u001b[0m\u001b[0mget\u001b[0m\u001b[1;33m(\u001b[0m\u001b[1;34m'section1'\u001b[0m\u001b[1;33m,\u001b[0m \u001b[1;34m'bb'\u001b[0m\u001b[1;33m)\u001b[0m\u001b[1;33m\u001b[0m\u001b[0m\n\u001b[0m",
        "\u001b[1;32m/usr/lib/python2.7/ConfigParser.pyc\u001b[0m in \u001b[0;36mget\u001b[1;34m(self, section, option, raw, vars)\u001b[0m\n\u001b[0;32m    616\u001b[0m             \u001b[0mvalue\u001b[0m \u001b[1;33m=\u001b[0m \u001b[0md\u001b[0m\u001b[1;33m[\u001b[0m\u001b[0moption\u001b[0m\u001b[1;33m]\u001b[0m\u001b[1;33m\u001b[0m\u001b[0m\n\u001b[0;32m    617\u001b[0m         \u001b[1;32mexcept\u001b[0m \u001b[0mKeyError\u001b[0m\u001b[1;33m:\u001b[0m\u001b[1;33m\u001b[0m\u001b[0m\n\u001b[1;32m--> 618\u001b[1;33m             \u001b[1;32mraise\u001b[0m \u001b[0mNoOptionError\u001b[0m\u001b[1;33m(\u001b[0m\u001b[0moption\u001b[0m\u001b[1;33m,\u001b[0m \u001b[0msection\u001b[0m\u001b[1;33m)\u001b[0m\u001b[1;33m\u001b[0m\u001b[0m\n\u001b[0m\u001b[0;32m    619\u001b[0m \u001b[1;33m\u001b[0m\u001b[0m\n\u001b[0;32m    620\u001b[0m         \u001b[1;32mif\u001b[0m \u001b[0mraw\u001b[0m \u001b[1;32mor\u001b[0m \u001b[0mvalue\u001b[0m \u001b[1;32mis\u001b[0m \u001b[0mNone\u001b[0m\u001b[1;33m:\u001b[0m\u001b[1;33m\u001b[0m\u001b[0m\n",
        "\u001b[1;31mNoOptionError\u001b[0m: No option 'bb' in section: 'section1'"
       ]
      }
     ],
     "prompt_number": 10
    },
    {
     "cell_type": "markdown",
     "metadata": {},
     "source": [
      "###HTML Parsing\n"
     ]
    },
    {
     "cell_type": "code",
     "collapsed": false,
     "input": [
      "html_doc = \"\"\"\n",
      "<html><head><title>The Dormouse's story</title></head>\n",
      "<body>\n",
      "<p class=\"title\"><b>The Dormouse's story</b></p>\n",
      "\n",
      "<p class=\"story\">Once upon a time there were three little sisters; and their names were\n",
      "<a href=\"http://example.com/elsie\" class=\"sister\" id=\"link1\">Elsie</a>,\n",
      "<a href=\"http://example.com/lacie\" class=\"sister\" id=\"link2\">Lacie</a> and\n",
      "<a href=\"http://example.com/tillie\" class=\"sister\" id=\"link3\">Tillie</a>;\n",
      "and they lived at the bottom of a well.</p>\n",
      "\n",
      "<p class=\"story\">...</p>\n",
      "\"\"\"\n",
      "\n",
      "from BeautifulSoup import BeautifulSoup\n",
      "soup = BeautifulSoup(html_doc)\n",
      "\n",
      "print(soup.prettify())\n",
      "# <html>\n",
      "#  <head>\n",
      "#   <title>\n",
      "#    The Dormouse's story\n",
      "#   </title>\n",
      "#  </head>\n",
      "#  <body>\n",
      "#   <p class=\"title\">\n",
      "#    <b>\n",
      "#     The Dormouse's story\n",
      "#    </b>\n",
      "#   </p>\n",
      "#   <p class=\"story\">\n",
      "#    Once upon a time there were three little sisters; and their names were\n",
      "#    <a class=\"sister\" href=\"http://example.com/elsie\" id=\"link1\">\n",
      "#     Elsie\n",
      "#    </a>\n",
      "#    ,\n",
      "#    <a class=\"sister\" href=\"http://example.com/lacie\" id=\"link2\">\n",
      "#     Lacie\n",
      "#    </a>\n",
      "#    and\n",
      "#    <a class=\"sister\" href=\"http://example.com/tillie\" id=\"link2\">\n",
      "#     Tillie\n",
      "#    </a>\n",
      "#    ; and they lived at the bottom of a well.\n",
      "#   </p>\n",
      "#   <p class=\"story\">\n",
      "#    ...\n",
      "#   </p>\n",
      "#  </body>\n",
      "# </html>"
     ],
     "language": "python",
     "metadata": {},
     "outputs": [
      {
       "output_type": "stream",
       "stream": "stdout",
       "text": [
        "<html>\n",
        " <head>\n",
        "  <title>\n",
        "   The Dormouse's story\n",
        "  </title>\n",
        " </head>\n",
        " <body>\n",
        "  <p class=\"title\">\n",
        "   <b>\n",
        "    The Dormouse's story\n",
        "   </b>\n",
        "  </p>\n",
        "  <p class=\"story\">\n",
        "   Once upon a time there were three little sisters; and their names were\n",
        "   <a href=\"http://example.com/elsie\" class=\"sister\" id=\"link1\">\n",
        "    Elsie\n",
        "   </a>\n",
        "   ,\n",
        "   <a href=\"http://example.com/lacie\" class=\"sister\" id=\"link2\">\n",
        "    Lacie\n",
        "   </a>\n",
        "   and\n",
        "   <a href=\"http://example.com/tillie\" class=\"sister\" id=\"link3\">\n",
        "    Tillie\n",
        "   </a>\n",
        "   ;\n",
        "and they lived at the bottom of a well.\n",
        "  </p>\n",
        "  <p class=\"story\">\n",
        "   ...\n",
        "  </p>\n",
        " </body>\n",
        "</html>\n"
       ]
      }
     ],
     "prompt_number": 11
    },
    {
     "cell_type": "code",
     "collapsed": false,
     "input": [
      "soup.title\n",
      "# <title>The Dormouse's story</title>\n"
     ],
     "language": "python",
     "metadata": {},
     "outputs": [
      {
       "metadata": {},
       "output_type": "pyout",
       "prompt_number": 12,
       "text": [
        "<title>The Dormouse's story</title>"
       ]
      }
     ],
     "prompt_number": 12
    },
    {
     "cell_type": "code",
     "collapsed": false,
     "input": [
      "\n",
      "soup.title.name\n",
      "# u'title'\n"
     ],
     "language": "python",
     "metadata": {},
     "outputs": [
      {
       "metadata": {},
       "output_type": "pyout",
       "prompt_number": 13,
       "text": [
        "u'title'"
       ]
      }
     ],
     "prompt_number": 13
    },
    {
     "cell_type": "code",
     "collapsed": false,
     "input": [
      "\n",
      "soup.title.string\n",
      "# u'The Dormouse's story'\n"
     ],
     "language": "python",
     "metadata": {},
     "outputs": [
      {
       "metadata": {},
       "output_type": "pyout",
       "prompt_number": 14,
       "text": [
        "u\"The Dormouse's story\""
       ]
      }
     ],
     "prompt_number": 14
    },
    {
     "cell_type": "code",
     "collapsed": false,
     "input": [
      "print soup.title.parent.name\n",
      "# u'head'"
     ],
     "language": "python",
     "metadata": {},
     "outputs": [
      {
       "output_type": "stream",
       "stream": "stdout",
       "text": [
        "head\n"
       ]
      }
     ],
     "prompt_number": 17
    },
    {
     "cell_type": "code",
     "collapsed": false,
     "input": [
      "soup.p\n",
      "# <p class=\"title\"><b>The Dormouse's story</b></p>\n"
     ],
     "language": "python",
     "metadata": {},
     "outputs": [
      {
       "metadata": {},
       "output_type": "pyout",
       "prompt_number": 18,
       "text": [
        "<p class=\"title\"><b>The Dormouse's story</b></p>"
       ]
      }
     ],
     "prompt_number": 18
    },
    {
     "cell_type": "code",
     "collapsed": false,
     "input": [
      "soup.p['class']\n",
      "# u'title'"
     ],
     "language": "python",
     "metadata": {},
     "outputs": [
      {
       "metadata": {},
       "output_type": "pyout",
       "prompt_number": 19,
       "text": [
        "u'title'"
       ]
      }
     ],
     "prompt_number": 19
    },
    {
     "cell_type": "code",
     "collapsed": false,
     "input": [
      "soup.a\n",
      "# <a class=\"sister\" href=\"http://example.com/elsie\" id=\"link1\">Elsie</a>\n"
     ],
     "language": "python",
     "metadata": {},
     "outputs": [
      {
       "metadata": {},
       "output_type": "pyout",
       "prompt_number": 20,
       "text": [
        "<a href=\"http://example.com/elsie\" class=\"sister\" id=\"link1\">Elsie</a>"
       ]
      }
     ],
     "prompt_number": 20
    },
    {
     "cell_type": "code",
     "collapsed": false,
     "input": [
      "from BeautifulSoup import BeautifulSoup\n",
      "soup = BeautifulSoup(html_doc)\n",
      "print [x for x in dir(soup) if 'find' in x]\n",
      "print soup.findAll('a')\n",
      "# [<a class=\"sister\" href=\"http://example.com/elsie\" id=\"link1\">Elsie</a>,\n",
      "#  <a class=\"sister\" href=\"http://example.com/lacie\" id=\"link2\">Lacie</a>,\n",
      "#  <a class=\"sister\" href=\"http://example.com/tillie\" id=\"link3\">Tillie</a>]\n"
     ],
     "language": "python",
     "metadata": {},
     "outputs": [
      {
       "output_type": "stream",
       "stream": "stdout",
       "text": [
        "['_findAll', '_findOne', 'find', 'findAll', 'findAllNext', 'findAllPrevious', 'findChild', 'findChildren', 'findNext', 'findNextSibling', 'findNextSiblings', 'findParent', 'findParents', 'findPrevious', 'findPreviousSibling', 'findPreviousSiblings']\n",
        "[<a href=\"http://example.com/elsie\" class=\"sister\" id=\"link1\">Elsie</a>, <a href=\"http://example.com/lacie\" class=\"sister\" id=\"link2\">Lacie</a>, <a href=\"http://example.com/tillie\" class=\"sister\" id=\"link3\">Tillie</a>]\n"
       ]
      }
     ],
     "prompt_number": 24
    },
    {
     "cell_type": "code",
     "collapsed": false,
     "input": [
      "soup.find(id=\"link3\")\n",
      "# <a class=\"sister\" href=\"http://example.com/tillie\" id=\"link3\">Tillie</a>"
     ],
     "language": "python",
     "metadata": {},
     "outputs": [
      {
       "metadata": {},
       "output_type": "pyout",
       "prompt_number": 25,
       "text": [
        "<a href=\"http://example.com/tillie\" class=\"sister\" id=\"link3\">Tillie</a>"
       ]
      }
     ],
     "prompt_number": 25
    },
    {
     "cell_type": "code",
     "collapsed": false,
     "input": [
      "#  extracting all the URLs found within a page\u2019s <a> tags:\n",
      "for link in soup.find_all('a'):\n",
      "    print(link.get('href'))\n",
      "# http://example.com/elsie\n",
      "# http://example.com/lacie\n",
      "# http://example.com/tillie\n"
     ],
     "language": "python",
     "metadata": {},
     "outputs": []
    },
    {
     "cell_type": "code",
     "collapsed": false,
     "input": [
      "#Another common task is extracting all the text from a page:\n",
      "from BeautifulSoup import BeautifulSoup\n",
      "soup = BeautifulSoup(html_doc)\n",
      "print  [x for x in dir(soup) if 'text' in x]\n",
      "print(soup.text)\n"
     ],
     "language": "python",
     "metadata": {},
     "outputs": [
      {
       "output_type": "stream",
       "stream": "stdout",
       "text": [
        "['_SGMLParser__starttag_text', 'get_starttag_text', 'text']\n",
        "The Dormouse's storyThe Dormouse's storyOnce upon a time there were three little sisters; and their names wereElsie,LacieandTillie;\n",
        "and they lived at the bottom of a well....\n"
       ]
      }
     ],
     "prompt_number": 30
    },
    {
     "cell_type": "markdown",
     "metadata": {},
     "source": [
      "### XML Parsing"
     ]
    },
    {
     "cell_type": "markdown",
     "metadata": {},
     "source": [
      "```xml\n",
      "<data>\n",
      "    <items>\n",
      "        <item name=\"item1\"></item>\n",
      "        <item name=\"item2\"></item>\n",
      "        <item name=\"item3\"></item>\n",
      "        <item name=\"item4\"></item>\n",
      "    </items>\n",
      "</data>\n",
      "```"
     ]
    },
    {
     "cell_type": "code",
     "collapsed": false,
     "input": [
      "from xml.dom import minidom\n",
      "xmldoc = minidom.parse('sample.xml')\n",
      "itemlist = xmldoc.getElementsByTagName('item')\n",
      "print(len(itemlist))\n",
      "print(itemlist[0].attributes['name'].value)\n",
      "for s in itemlist:\n",
      "    print(s.attributes['name'].value)"
     ],
     "language": "python",
     "metadata": {},
     "outputs": [
      {
       "output_type": "stream",
       "stream": "stdout",
       "text": [
        "4\n",
        "item1\n",
        "item1\n",
        "item2\n",
        "item3\n",
        "item4\n"
       ]
      }
     ],
     "prompt_number": 31
    },
    {
     "cell_type": "markdown",
     "metadata": {},
     "source": [
      "__lxml__ is another library.\n",
      "\n",
      "New libraries keep coming.\n",
      "\n",
      "E.g.: __untangle__\n",
      "* untangle is a simple library which takes an XML document and returns a Python object which mirrors the nodes and attributes in its structure.\n",
      "\n",
      "* xmltodict is another simple library that aims at making XML feel like working with JSON."
     ]
    },
    {
     "cell_type": "code",
     "collapsed": false,
     "input": [
      "import untangle\n",
      "obj = untangle.parse('sample.xml')\n",
      "obj.root.child['name']"
     ],
     "language": "python",
     "metadata": {},
     "outputs": []
    },
    {
     "cell_type": "markdown",
     "metadata": {},
     "source": [
      "```xml\n",
      "<mydocument has=\"an attribute\">\n",
      "  <and>\n",
      "    <many>elements</many>\n",
      "    <many>more elements</many>\n",
      "  </and>\n",
      "  <plus a=\"complex\">\n",
      "    element as well\n",
      "  </plus>\n",
      "</mydocument>\n",
      "```"
     ]
    },
    {
     "cell_type": "code",
     "collapsed": false,
     "input": [
      "import xmltodict\n",
      "\n",
      "with open('sample2.xml') as fd:\n",
      "    obj = xmltodict.parse(fd.read())\n",
      "    \n",
      "#and then you can access elements, attributes and values like this:\n",
      "\n",
      "doc['mydocument']['@has'] # == u'an attribute'\n",
      "doc['mydocument']['and']['many'] # == [u'elements', u'more elements']\n",
      "doc['mydocument']['plus']['@a'] # == u'complex'\n",
      "doc['mydocument']['plus']['#text'] # == u'element as well'\n",
      "\n"
     ],
     "language": "python",
     "metadata": {},
     "outputs": [
      {
       "ename": "NameError",
       "evalue": "name 'doc' is not defined",
       "output_type": "pyerr",
       "traceback": [
        "\u001b[1;31m---------------------------------------------------------------------------\u001b[0m\n\u001b[1;31mNameError\u001b[0m                                 Traceback (most recent call last)",
        "\u001b[1;32m<ipython-input-33-2913ddc15e84>\u001b[0m in \u001b[0;36m<module>\u001b[1;34m()\u001b[0m\n\u001b[0;32m      6\u001b[0m \u001b[1;31m#and then you can access elements, attributes and values like this:\u001b[0m\u001b[1;33m\u001b[0m\u001b[1;33m\u001b[0m\u001b[0m\n\u001b[0;32m      7\u001b[0m \u001b[1;33m\u001b[0m\u001b[0m\n\u001b[1;32m----> 8\u001b[1;33m \u001b[0mdoc\u001b[0m\u001b[1;33m[\u001b[0m\u001b[1;34m'mydocument'\u001b[0m\u001b[1;33m]\u001b[0m\u001b[1;33m[\u001b[0m\u001b[1;34m'@has'\u001b[0m\u001b[1;33m]\u001b[0m \u001b[1;31m# == u'an attribute'\u001b[0m\u001b[1;33m\u001b[0m\u001b[0m\n\u001b[0m\u001b[0;32m      9\u001b[0m \u001b[0mdoc\u001b[0m\u001b[1;33m[\u001b[0m\u001b[1;34m'mydocument'\u001b[0m\u001b[1;33m]\u001b[0m\u001b[1;33m[\u001b[0m\u001b[1;34m'and'\u001b[0m\u001b[1;33m]\u001b[0m\u001b[1;33m[\u001b[0m\u001b[1;34m'many'\u001b[0m\u001b[1;33m]\u001b[0m \u001b[1;31m# == [u'elements', u'more elements']\u001b[0m\u001b[1;33m\u001b[0m\u001b[0m\n\u001b[0;32m     10\u001b[0m \u001b[0mdoc\u001b[0m\u001b[1;33m[\u001b[0m\u001b[1;34m'mydocument'\u001b[0m\u001b[1;33m]\u001b[0m\u001b[1;33m[\u001b[0m\u001b[1;34m'plus'\u001b[0m\u001b[1;33m]\u001b[0m\u001b[1;33m[\u001b[0m\u001b[1;34m'@a'\u001b[0m\u001b[1;33m]\u001b[0m \u001b[1;31m# == u'complex'\u001b[0m\u001b[1;33m\u001b[0m\u001b[0m\n",
        "\u001b[1;31mNameError\u001b[0m: name 'doc' is not defined"
       ]
      }
     ],
     "prompt_number": 33
    },
    {
     "cell_type": "code",
     "collapsed": false,
     "input": [
      "import simplejson"
     ],
     "language": "python",
     "metadata": {},
     "outputs": [
      {
       "ename": "ImportError",
       "evalue": "No module named simplejson",
       "output_type": "pyerr",
       "traceback": [
        "\u001b[1;31m---------------------------------------------------------------------------\u001b[0m\n\u001b[1;31mImportError\u001b[0m                               Traceback (most recent call last)",
        "\u001b[1;32m<ipython-input-34-ac998a77e3e2>\u001b[0m in \u001b[0;36m<module>\u001b[1;34m()\u001b[0m\n\u001b[1;32m----> 1\u001b[1;33m \u001b[1;32mimport\u001b[0m \u001b[0msimplejson\u001b[0m\u001b[1;33m\u001b[0m\u001b[0m\n\u001b[0m",
        "\u001b[1;31mImportError\u001b[0m: No module named simplejson"
       ]
      }
     ],
     "prompt_number": 34
    },
    {
     "cell_type": "code",
     "collapsed": false,
     "input": [
      "cmp(1,0)\n"
     ],
     "language": "python",
     "metadata": {},
     "outputs": [
      {
       "metadata": {},
       "output_type": "pyout",
       "prompt_number": 36,
       "text": [
        "1"
       ]
      }
     ],
     "prompt_number": 36
    },
    {
     "cell_type": "markdown",
     "metadata": {},
     "source": [
      "```python\n",
      "    >>> import simplejson as json\n",
      "    >>> json.dumps(['foo', {'bar': ('baz', None, 1.0, 2)}])\n",
      "    '[\"foo\", {\"bar\": [\"baz\", null, 1.0, 2]}]'\n",
      "    >>> print(json.dumps(\"\\\"foo\\bar\"))\n",
      "    \"\\\"foo\\bar\"\n",
      "    >>> print(json.dumps(u'\\u1234'))\n",
      "    \"\\u1234\"\n",
      "    >>> print(json.dumps('\\\\'))\n",
      "    \"\\\\\"\n",
      "    >>> print(json.dumps({\"c\": 0, \"b\": 0, \"a\": 0}, sort_keys=True))\n",
      "    {\"a\": 0, \"b\": 0, \"c\": 0}\n",
      "\n",
      "```"
     ]
    }
   ],
   "metadata": {}
  }
 ]
}