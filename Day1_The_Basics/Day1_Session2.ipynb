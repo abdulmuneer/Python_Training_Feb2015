{
 "metadata": {
  "name": "",
  "signature": "sha256:4c21a735d62762e832211b66edaa40cb41577270d4dcd6a41c8773dcc79357da"
 },
 "nbformat": 3,
 "nbformat_minor": 0,
 "worksheets": [
  {
   "cells": [
    {
     "cell_type": "markdown",
     "metadata": {},
     "source": [
      "Basic Data Structures : \n",
      "* int, float, str\n",
      "* Possible operations on above datatypes\n",
      "* Variables\n",
      "* Dynamic typing"
     ]
    },
    {
     "cell_type": "code",
     "collapsed": false,
     "input": [
      "x = 10\n",
      "\n",
      "y = 10.1\n"
     ],
     "language": "python",
     "metadata": {},
     "outputs": [],
     "prompt_number": 4
    },
    {
     "cell_type": "markdown",
     "metadata": {},
     "source": [
      "__Numbers__:\n",
      "\n",
      "* int \n",
      "\n",
      "```python\n",
      "x = 10\n",
      "y = -1\n",
      "z = 1000\n",
      "```\n",
      "* float\n",
      "\n",
      "```python\n",
      "x = 10.1\n",
      "y = -1.1\n",
      "z = 3.14\n",
      "```\n",
      "* complex\n",
      "\n",
      "```python\n",
      "x = 10 + 2j\n",
      "y = -1j\n",
      "```"
     ]
    },
    {
     "cell_type": "markdown",
     "metadata": {},
     "source": [
      "__Boolean and None__\n",
      "\n",
      "```python\n",
      "True\n",
      "False\n",
      "None\n",
      "```"
     ]
    },
    {
     "cell_type": "markdown",
     "metadata": {},
     "source": [
      "Arithmetic Operations:\n",
      "* Assignment: =\n",
      "* Addition: +\n",
      "* Subtraction: -\n",
      "* Division: /\n",
      "* Multiplication: *\n",
      "\n",
      "* Power: `**`\n",
      "* Modulo: %\n",
      "* Floor division: //\n",
      "\n",
      "* precedence `*, /, %, //` takes precedence over `+, -`\n",
      "\n",
      "```python\n",
      "2+3*2-5 = 3\n",
      "```\n",
      "* reference: https://docs.python.org/2/reference/expressions.html#operator-precedence\n",
      "* We can force precedence by enclosing them in parantheses. \n",
      "\n",
      "```python\n",
      "(2+3)*2-5 = 5\n",
      "```"
     ]
    },
    {
     "cell_type": "markdown",
     "metadata": {},
     "source": [
      "__Strings__\n",
      "\n",
      "```python\n",
      "p = 'a'\n",
      "q = \"b\"\n",
      "x = 'this is a single quoted String'\n",
      "y = \"this is a double quoted String\"\n",
      "z = \"\"\"This is a triple \n",
      "quoted string\"\"\"\n",
      "note = '''Triple quoted strings can contain multi line strings'''\n",
      "```"
     ]
    },
    {
     "cell_type": "markdown",
     "metadata": {},
     "source": [
      "__String Operations__:\n",
      "\n",
      "* Once a string is created, it cannot be modified (immutability).\n",
      "* Any operation that modifies a string will in fact create a new string\n",
      "\n",
      "___operations___:\n",
      "\n",
      "* addition\n",
      "* slicing\n",
      "* replacing\n",
      "* comparison\n",
      "* substring check\n",
      "* find\n",
      "* split\n",
      "* join\n",
      "* upper/lower\n"
     ]
    },
    {
     "cell_type": "markdown",
     "metadata": {},
     "source": [
      "__Type Conversion__\n",
      "\n",
      "* converting string to a number\n",
      "* converting number to a string\n",
      "* converting between numbers\n",
      "* implicit conversion"
     ]
    }
   ],
   "metadata": {}
  }
 ]
}