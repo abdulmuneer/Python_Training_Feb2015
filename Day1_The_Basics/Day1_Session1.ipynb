{
 "metadata": {
  "name": "",
  "signature": "sha256:ff7d2827b9f15d715ab4d798bd6696d7ecb13367e0c9a589cc8b31caeeda9fa4"
 },
 "nbformat": 3,
 "nbformat_minor": 0,
 "worksheets": [
  {
   "cells": [
    {
     "cell_type": "heading",
     "level": 3,
     "metadata": {},
     "source": [
      " Session 1 Overview"
     ]
    },
    {
     "cell_type": "markdown",
     "metadata": {},
     "source": [
      "* Introduction\n",
      "* Use cases of python\n",
      "* Comparison with other programming languages\n",
      "* Installation\n",
      "* The first program\n",
      "* Python interpretor, console.\n"
     ]
    },
    {
     "cell_type": "code",
     "collapsed": false,
     "input": [],
     "language": "python",
     "metadata": {},
     "outputs": []
    },
    {
     "cell_type": "heading",
     "level": 3,
     "metadata": {},
     "source": [
      " Introduction"
     ]
    },
    {
     "cell_type": "markdown",
     "metadata": {},
     "source": [
      "* Python is a dynamic, interpreted (bytecode-compiled) language. \n",
      "* There are no type declarations of variables, parameters. \n",
      "* code is short and flexible\n",
      "* Created in 1989 by Guido van Rossum\n",
      "* Named after Monty Python\n",
      "* Open sourced from the beginning\n",
      "* Initially considered a scripting language, but it is much more than that..\n",
      "* Scalable, object oriented and functional from the beginning\n",
      "* Used by Google from the beginning"
     ]
    },
    {
     "cell_type": "heading",
     "level": 3,
     "metadata": {},
     "source": [
      "Use cases of python"
     ]
    },
    {
     "cell_type": "markdown",
     "metadata": {},
     "source": [
      "* Scientific Computing\n",
      "* Rapid prototyping\n",
      "* Web Development\n",
      "* Test Automation\n",
      "* System Programming\n",
      "* Cloud Computing"
     ]
    },
    {
     "cell_type": "heading",
     "level": 3,
     "metadata": {},
     "source": [
      "Comparison with other languages"
     ]
    },
    {
     "cell_type": "markdown",
     "metadata": {},
     "source": [
      "* Difference with Statically typed languages\n",
      "* No pre compilation step.\n",
      "* Friendly Syntax - no braces, no semi colons."
     ]
    },
    {
     "cell_type": "heading",
     "level": 3,
     "metadata": {},
     "source": [
      "Installation"
     ]
    },
    {
     "cell_type": "markdown",
     "metadata": {},
     "source": [
      "* Linux : comes pre-installed\n",
      "* Mac OS X : comes pre-installed\n",
      "* windows: binaries available.\n",
      "* In Windows the path needs to be set after installation.\n"
     ]
    },
    {
     "cell_type": "heading",
     "level": 3,
     "metadata": {},
     "source": [
      "The first program!"
     ]
    },
    {
     "cell_type": "markdown",
     "metadata": {},
     "source": [
      "* open a text editor\n",
      "* Enter \"print 'Hello World!'\"\n",
      "* save as 'first_program.py'\n",
      "* Open console, change location to the folder where this file is saved.\n",
      "* python first_program.py\n",
      "* Congratulations!\n",
      "\n",
      "```python\n",
      "print\n",
      "```\n",
      "This statement will print things to console\n",
      "\n",
      "```python\n",
      "'Hello World' was a string\n",
      "```\n",
      "\n",
      "You can comment a line by starting it with `#`\n",
      "The statement will not be executed\n",
      "\n",
      "```python\n",
      "# This is a python comment\n",
      "# Each comment will be of one line\n",
      "# If you need multi line comments, triple quoted strings can be used\n",
      "# Although strictly speaking triple quoted strings are strings and not comments\n",
      "# we will discuss more about triple quoted strings later\n",
      "```\n"
     ]
    },
    {
     "cell_type": "heading",
     "level": 3,
     "metadata": {},
     "source": [
      "Python interpretor, console."
     ]
    },
    {
     "cell_type": "markdown",
     "metadata": {},
     "source": [
      "* Power to you!\n",
      "* When in doubt, test!\n",
      "* Your personal assistant!"
     ]
    },
    {
     "cell_type": "code",
     "collapsed": false,
     "input": [],
     "language": "python",
     "metadata": {},
     "outputs": []
    }
   ],
   "metadata": {}
  }
 ]
}