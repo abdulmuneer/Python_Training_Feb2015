{
 "metadata": {
  "name": "",
  "signature": "sha256:3ed66ca9c1a56dceb63ac559e6de6cd2e4e001616031768972d1c04b4a356c10"
 },
 "nbformat": 3,
 "nbformat_minor": 0,
 "worksheets": [
  {
   "cells": [
    {
     "cell_type": "markdown",
     "metadata": {},
     "source": [
      "Basic Data Structures : \n",
      "* int, float, str\n",
      "* Possible operations on above datatypes\n",
      "* Variables\n",
      "* Dynamic typing"
     ]
    },
    {
     "cell_type": "markdown",
     "metadata": {},
     "source": [
      "__Numbers__:\n",
      "\n",
      "* int \n",
      "\n",
      "```python\n",
      "x = 10\n",
      "y = -1\n",
      "z = 1000\n",
      "```\n",
      "* float\n",
      "\n",
      "```python\n",
      "x = 10.1\n",
      "y = -1.1\n",
      "z = 3.14\n",
      "```\n",
      "* complex\n",
      "\n",
      "```python\n",
      "x = 10 + 2j\n",
      "y = -1j\n",
      "```"
     ]
    },
    {
     "cell_type": "markdown",
     "metadata": {},
     "source": [
      "Arithmetic Operations:\n",
      "\n",
      "* Addition: +\n",
      "* Subtraction: -\n",
      "* Division: /\n",
      "* Multiplication: *\n",
      "\n",
      "* Power: `**`\n",
      "* Modulo: %\n",
      "* Floor division: //\n",
      "\n",
      "* precedence `*, /, %, //` takes precedence over `+, -`\n",
      "\n",
      "```python\n",
      "2+3*2-5 = 3\n",
      "```\n",
      "* reference: https://docs.python.org/2/reference/expressions.html#operator-precedence\n",
      "* We can force precedence by enclosing them in parantheses. \n",
      "\n",
      "```python\n",
      "(2+3)*2-5 = 5\n",
      "```"
     ]
    },
    {
     "cell_type": "markdown",
     "metadata": {},
     "source": [
      "__Strings__\n",
      "\n",
      "```python\n",
      "p = 'a'\n",
      "q = \"b\"\n",
      "x = 'this is a single quoted String'\n",
      "y = \"this is a double quoted String\"\n",
      "z = \"\"\"This is a triple \n",
      "quoted string\"\"\"\n",
      "note = '''Triple quoted strings can contain multi line strings'''\n",
      "```"
     ]
    },
    {
     "cell_type": "markdown",
     "metadata": {},
     "source": [
      "__String Operations__:\n",
      "\n",
      "* Once a string is created, it cannot be modified (immutability).\n",
      "* Any operation that modifies a string will in fact create a new string\n",
      "\n",
      "___operations___:\n",
      "\n",
      "* addition\n",
      "* slicing\n",
      "* replacing\n",
      "* comparison\n"
     ]
    }
   ],
   "metadata": {}
  }
 ]
}