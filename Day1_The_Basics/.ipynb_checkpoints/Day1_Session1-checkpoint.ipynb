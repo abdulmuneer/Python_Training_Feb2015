{
 "metadata": {
  "name": "",
  "signature": "sha256:ccce9d92903eaba483cf58b06e806fa13aaee3d03ac01af8545eff957f9209b8"
 },
 "nbformat": 3,
 "nbformat_minor": 0,
 "worksheets": [
  {
   "cells": [
    {
     "cell_type": "heading",
     "level": 3,
     "metadata": {},
     "source": [
      " Session 1 Overview"
     ]
    },
    {
     "cell_type": "markdown",
     "metadata": {},
     "source": [
      "* Introduction\n",
      "* Use cases of python\n",
      "* Comparison with other programming languages\n",
      "* Installation\n",
      "* The first program\n",
      "* Python interpretor, console.\n"
     ]
    },
    {
     "cell_type": "heading",
     "level": 3,
     "metadata": {},
     "source": [
      " Introduction"
     ]
    },
    {
     "cell_type": "markdown",
     "metadata": {},
     "source": [
      "* Python is a dynamic, interpreted (bytecode-compiled) language. \n",
      "* There are no type declarations of variables, parameters. \n",
      "* code is short and flexible\n",
      "* Created in 1989 by Guido van Rossum\n",
      "* Named after Monty Python\n",
      "* Open sourced from the beginning\n",
      "* Initially considered a scripting language, but it is much more than that..\n",
      "* Scalable, object oriented and functional from the beginning\n",
      "* Used by Google from the beginning"
     ]
    },
    {
     "cell_type": "heading",
     "level": 3,
     "metadata": {},
     "source": [
      "Use cases of python"
     ]
    },
    {
     "cell_type": "markdown",
     "metadata": {},
     "source": [
      "* Scientific Computing\n",
      "* Rapid prototyping\n",
      "* Web Development\n",
      "* Test Automation\n",
      "* System Programming\n",
      "* Cloud Computing"
     ]
    },
    {
     "cell_type": "heading",
     "level": 3,
     "metadata": {},
     "source": [
      "Comparison with other languages"
     ]
    },
    {
     "cell_type": "markdown",
     "metadata": {},
     "source": [
      "* Difference with Statically typed languages\n",
      "* No pre compilation step.\n",
      "* Friendly Syntax - no braces, no semi colons."
     ]
    },
    {
     "cell_type": "heading",
     "level": 3,
     "metadata": {},
     "source": [
      "Installation"
     ]
    },
    {
     "cell_type": "markdown",
     "metadata": {},
     "source": [
      "* Linux : comes in-built\n",
      "* Mac OS X : comes in-built\n",
      "* windows: binaries available.\n",
      "* In Windows the path needs to be set after installation.\n"
     ]
    },
    {
     "cell_type": "heading",
     "level": 3,
     "metadata": {},
     "source": [
      "The first program!"
     ]
    },
    {
     "cell_type": "markdown",
     "metadata": {},
     "source": [
      "* open a text editor\n",
      "* Enter \"print 'Hello World!'\"\n",
      "* save as 'first_program.py'\n",
      "* Open console, change location to the folder where this file is saved.\n",
      "* python first_program.py\n",
      "* Congratulations!\n"
     ]
    },
    {
     "cell_type": "heading",
     "level": 3,
     "metadata": {},
     "source": [
      "Python interpretor, console."
     ]
    },
    {
     "cell_type": "markdown",
     "metadata": {},
     "source": [
      "* Power to you!\n",
      "* When in doubt, test!\n",
      "* Your personal assistant!"
     ]
    },
    {
     "cell_type": "code",
     "collapsed": false,
     "input": [],
     "language": "python",
     "metadata": {},
     "outputs": []
    }
   ],
   "metadata": {}
  }
 ]
}