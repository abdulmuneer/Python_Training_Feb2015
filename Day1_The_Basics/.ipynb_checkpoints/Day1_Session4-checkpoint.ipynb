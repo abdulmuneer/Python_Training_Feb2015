{
 "metadata": {
  "name": "",
  "signature": "sha256:f231fcb9b2b5a93bcbd4092d362dd90beccdcaefa89589981d6d8be8898f6e67"
 },
 "nbformat": 3,
 "nbformat_minor": 0,
 "worksheets": [
  {
   "cells": [
    {
     "cell_type": "markdown",
     "metadata": {},
     "source": [
      "\n",
      "* range, xrange\n",
      "* sorting\n",
      "* Directory - python package\n",
      "* Python Standard Library (introduction):\n",
      "* os, sys module as examples \n"
     ]
    },
    {
     "cell_type": "markdown",
     "metadata": {},
     "source": [
      "```python\n",
      "range\n",
      "# range(n) gives a list from 0 to n-1\n",
      "range(3)\n",
      ">>> [0, 1, 2]\n",
      "\n",
      "#full form of range:\n",
      "range (start, stop, step)\n",
      "```\n"
     ]
    },
    {
     "cell_type": "markdown",
     "metadata": {},
     "source": [
      "xrange()\n",
      "\n",
      "* xrange is a generator\n",
      "* return the next value on each call\n",
      "* this can save memory as it does not populate the entire list like range\n",
      "* a list can be generated from generator by passing it to list()"
     ]
    },
    {
     "cell_type": "markdown",
     "metadata": {},
     "source": [
      "__Python package__\n",
      "\n",
      "* a python package is folder/directory with a file named `__init__.py` in it"
     ]
    },
    {
     "cell_type": "markdown",
     "metadata": {},
     "source": [
      "__Standard Library__\n",
      "\n",
      "* Python standard library is a collection of modules and packages \n",
      "* Standard library comes with installed python\n",
      "* Standard libraries contain tools to do most of the stuff\n",
      "* system and network interaction, threading, subprocess, date time calculation, database interaction etc..\n",
      "\n",
      "* we will consider two such modules for now\n"
     ]
    },
    {
     "cell_type": "markdown",
     "metadata": {},
     "source": [
      "__sys module__\n",
      "\n",
      "* This module provides access to some objects used or maintained by the\n",
      "    interpreter and to functions that interact strongly with the interpreter.\n",
      "    \n",
      "* sys.version will give python version info\n",
      "\n",
      "* sys.exit() will cause python to exit abruptly\n",
      "\n",
      "* sys.argv contains all the arguments passed while invoking python interpreter.\n",
      "\n",
      "\n"
     ]
    },
    {
     "cell_type": "markdown",
     "metadata": {},
     "source": [
      "__os module__\n",
      "\n",
      "* contains libraries for os interaction\n",
      "* automatically takes care of the underlying operating system\n",
      "\n",
      "* e.g: os.getcwd() prints current working directory\n",
      "* os.chdir('path') changes the directory to new location\n",
      "* os.name, os.cudir, os.listdir, os.mkdir\n",
      "* os.path contains utilities for path manipulation\n",
      "* os.path.abspath, os.path.basename, os.path.join, os.path.exists\n",
      "* os.path.isfile, os.path.isdir"
     ]
    },
    {
     "cell_type": "markdown",
     "metadata": {},
     "source": [
      "__Exercise__\n",
      "\n",
      "* print all files in home directory that starts with letter 'a' or 'B'"
     ]
    },
    {
     "cell_type": "code",
     "collapsed": false,
     "input": [],
     "language": "python",
     "metadata": {},
     "outputs": []
    }
   ],
   "metadata": {}
  }
 ]
}