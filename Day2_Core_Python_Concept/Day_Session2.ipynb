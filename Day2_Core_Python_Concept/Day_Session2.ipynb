{
 "metadata": {
  "name": "",
  "signature": "sha256:f0df5146c80e6b3597a955ce39ffe98f3207ff86e4a6f71aeeed88ab5d793d60"
 },
 "nbformat": 3,
 "nbformat_minor": 0,
 "worksheets": [
  {
   "cells": [
    {
     "cell_type": "markdown",
     "metadata": {},
     "source": [
      "__Class__"
     ]
    },
    {
     "cell_type": "code",
     "collapsed": false,
     "input": [
      "class Circle :\n",
      "    def __init__(self, rad):\n",
      "        self.radius = rad\n",
      "    \n",
      "    def __area(self):\n",
      "        return 3.14*self.radius*self.radius\n",
      "        \n",
      "    \n",
      "\n",
      "circle1 = Circle(10)\n",
      "circle2 = Circle(20)\n",
      "#adding a new attribute to an object\n",
      "circle1.colour = \"Blue\"\n",
      "\n",
      "print circle1.colour\n",
      "print dir(circle1)\n",
      "print dir(circle2)\n",
      "print circle2.colour\n",
      "\n",
      "#dir(circle1)"
     ],
     "language": "python",
     "metadata": {},
     "outputs": [
      {
       "output_type": "stream",
       "stream": "stdout",
       "text": [
        "Blue\n",
        "['_Circle__area', '__doc__', '__init__', '__module__', 'colour', 'radius']\n",
        "['_Circle__area', '__doc__', '__init__', '__module__', 'radius']\n"
       ]
      },
      {
       "ename": "AttributeError",
       "evalue": "Circle instance has no attribute 'colour'",
       "output_type": "pyerr",
       "traceback": [
        "\u001b[1;31m---------------------------------------------------------------------------\u001b[0m\n\u001b[1;31mAttributeError\u001b[0m                            Traceback (most recent call last)",
        "\u001b[1;32m<ipython-input-63-8a135e6c9bf0>\u001b[0m in \u001b[0;36m<module>\u001b[1;34m()\u001b[0m\n\u001b[0;32m     16\u001b[0m \u001b[1;32mprint\u001b[0m \u001b[0mdir\u001b[0m\u001b[1;33m(\u001b[0m\u001b[0mcircle1\u001b[0m\u001b[1;33m)\u001b[0m\u001b[1;33m\u001b[0m\u001b[0m\n\u001b[0;32m     17\u001b[0m \u001b[1;32mprint\u001b[0m \u001b[0mdir\u001b[0m\u001b[1;33m(\u001b[0m\u001b[0mcircle2\u001b[0m\u001b[1;33m)\u001b[0m\u001b[1;33m\u001b[0m\u001b[0m\n\u001b[1;32m---> 18\u001b[1;33m \u001b[1;32mprint\u001b[0m \u001b[0mcircle2\u001b[0m\u001b[1;33m.\u001b[0m\u001b[0mcolour\u001b[0m\u001b[1;33m\u001b[0m\u001b[0m\n\u001b[0m\u001b[0;32m     19\u001b[0m \u001b[1;33m\u001b[0m\u001b[0m\n\u001b[0;32m     20\u001b[0m \u001b[1;31m#dir(circle1)\u001b[0m\u001b[1;33m\u001b[0m\u001b[1;33m\u001b[0m\u001b[0m\n",
        "\u001b[1;31mAttributeError\u001b[0m: Circle instance has no attribute 'colour'"
       ]
      }
     ],
     "prompt_number": 63
    },
    {
     "cell_type": "code",
     "collapsed": false,
     "input": [
      "print circle1.__dict__\n",
      "print Circle.__dict__"
     ],
     "language": "python",
     "metadata": {},
     "outputs": [
      {
       "output_type": "stream",
       "stream": "stdout",
       "text": [
        "{'colour': 'Blue', 'radius': 10}\n",
        "{'__module__': '__main__', '_Circle__area': <function __area at 0x7fbe6441dcf8>, '__doc__': None, '__init__': <function __init__ at 0x7fbe6441dd70>}\n"
       ]
      }
     ],
     "prompt_number": 20
    },
    {
     "cell_type": "code",
     "collapsed": false,
     "input": [
      "class Vehicle(object):\n",
      "    def __init__(self, speed, number, color):\n",
      "        self.speed = speed\n",
      "        self.number = number\n",
      "        self.color = color\n",
      "        \n",
      "    def start(self):\n",
      "        print \"Starting\"\n",
      "        \n",
      "    def stop(self):\n",
      "        print \"Stopping\"\n",
      "    \n",
      "    def accelerate(self):\n",
      "        print \"accelerating\"\n",
      "        \n",
      "    def break_(self):\n",
      "        print \"breaking..\"\n",
      "        "
     ],
     "language": "python",
     "metadata": {},
     "outputs": [],
     "prompt_number": 68
    },
    {
     "cell_type": "code",
     "collapsed": false,
     "input": [
      "class Plane(Vehicle):\n",
      "    #def __init__(self, speed, number, color ):\n",
      "     #   Vehicle.__init__(self, speed, number, color )\n",
      "    def fly(self):\n",
      "        print \"Flying\"\n",
      "        \n",
      "    def break_(self):\n",
      "        print \"You can't break in mid-air\"\n",
      "    \n",
      "    def start(self):\n",
      "        #Vehicle.start(self)\n",
      "        super(Plane, self).start()\n",
      "        print \"Taking Off\"\n",
      "    \n",
      "    "
     ],
     "language": "python",
     "metadata": {},
     "outputs": [],
     "prompt_number": 69
    },
    {
     "cell_type": "code",
     "collapsed": false,
     "input": [
      "plane = Plane(300, 707, 'blue')\n",
      "plane.start()\n",
      "#print plane.color\n",
      "#plane.break_()"
     ],
     "language": "python",
     "metadata": {},
     "outputs": [
      {
       "output_type": "stream",
       "stream": "stdout",
       "text": [
        "Starting\n",
        "Taking Off\n"
       ]
      }
     ],
     "prompt_number": 71
    },
    {
     "cell_type": "markdown",
     "metadata": {},
     "source": [
      "__New Style and Old Style classes:__"
     ]
    },
    {
     "cell_type": "markdown",
     "metadata": {},
     "source": [
      "* new style classes inherit from a class called 'object' "
     ]
    },
    {
     "cell_type": "code",
     "collapsed": false,
     "input": [
      "dir(Circle)"
     ],
     "language": "python",
     "metadata": {},
     "outputs": [
      {
       "metadata": {},
       "output_type": "pyout",
       "prompt_number": 73,
       "text": [
        "['_Circle__area', '__doc__', '__init__', '__module__']"
       ]
      }
     ],
     "prompt_number": 73
    },
    {
     "cell_type": "code",
     "collapsed": false,
     "input": [
      "dir(Vehicle)"
     ],
     "language": "python",
     "metadata": {},
     "outputs": [
      {
       "metadata": {},
       "output_type": "pyout",
       "prompt_number": 74,
       "text": [
        "['__class__',\n",
        " '__delattr__',\n",
        " '__dict__',\n",
        " '__doc__',\n",
        " '__format__',\n",
        " '__getattribute__',\n",
        " '__hash__',\n",
        " '__init__',\n",
        " '__module__',\n",
        " '__new__',\n",
        " '__reduce__',\n",
        " '__reduce_ex__',\n",
        " '__repr__',\n",
        " '__setattr__',\n",
        " '__sizeof__',\n",
        " '__str__',\n",
        " '__subclasshook__',\n",
        " '__weakref__',\n",
        " 'accelerate',\n",
        " 'break_',\n",
        " 'start',\n",
        " 'stop']"
       ]
      }
     ],
     "prompt_number": 74
    }
   ],
   "metadata": {}
  }
 ]
}