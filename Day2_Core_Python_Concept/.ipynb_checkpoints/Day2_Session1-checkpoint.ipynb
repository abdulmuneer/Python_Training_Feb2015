{
 "metadata": {
  "name": "",
  "signature": "sha256:478a3d7c3c46426c39858baa813d5b41c9b3a8158f5a75f424817ef1eb114c48"
 },
 "nbformat": 3,
 "nbformat_minor": 0,
 "worksheets": []
}