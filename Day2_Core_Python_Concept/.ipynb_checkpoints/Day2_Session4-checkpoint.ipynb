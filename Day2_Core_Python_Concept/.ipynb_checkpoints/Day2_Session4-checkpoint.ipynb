{
 "metadata": {
  "name": "",
  "signature": "sha256:9c5411fe7d8f7d4ee4e6c945d8cbe1b846661cf73263fd515245c7a3012da352"
 },
 "nbformat": 3,
 "nbformat_minor": 0,
 "worksheets": [
  {
   "cells": [
    {
     "cell_type": "code",
     "collapsed": false,
     "input": [
      "x = open('testing_file_opening.txt', 'w')\n",
      "x.write(\"This is the first line\")\n",
      "x.write(\"\\n\")\n",
      "x.write(\"second line\")\n",
      "x.close()"
     ],
     "language": "python",
     "metadata": {},
     "outputs": [],
     "prompt_number": 3
    },
    {
     "cell_type": "code",
     "collapsed": false,
     "input": [
      "y = open('testing_file_opening.txt', 'r')\n",
      "lines = y.readlines()\n",
      "print lines"
     ],
     "language": "python",
     "metadata": {},
     "outputs": [
      {
       "output_type": "stream",
       "stream": "stdout",
       "text": [
        "['This is the first line\\n', 'second line']\n"
       ]
      }
     ],
     "prompt_number": 7
    },
    {
     "cell_type": "code",
     "collapsed": false,
     "input": [
      "y = open('testing_file_opening.txt', 'r')\n",
      "text = y.read()\n",
      "print text"
     ],
     "language": "python",
     "metadata": {},
     "outputs": [
      {
       "output_type": "stream",
       "stream": "stdout",
       "text": [
        "This is the first line\n",
        "second line\n"
       ]
      }
     ],
     "prompt_number": 9
    },
    {
     "cell_type": "code",
     "collapsed": false,
     "input": [
      "dir(y)"
     ],
     "language": "python",
     "metadata": {},
     "outputs": [
      {
       "metadata": {},
       "output_type": "pyout",
       "prompt_number": 11,
       "text": [
        "['__class__',\n",
        " '__delattr__',\n",
        " '__doc__',\n",
        " '__enter__',\n",
        " '__exit__',\n",
        " '__format__',\n",
        " '__getattribute__',\n",
        " '__hash__',\n",
        " '__init__',\n",
        " '__iter__',\n",
        " '__new__',\n",
        " '__reduce__',\n",
        " '__reduce_ex__',\n",
        " '__repr__',\n",
        " '__setattr__',\n",
        " '__sizeof__',\n",
        " '__str__',\n",
        " '__subclasshook__',\n",
        " 'close',\n",
        " 'closed',\n",
        " 'encoding',\n",
        " 'errors',\n",
        " 'fileno',\n",
        " 'flush',\n",
        " 'isatty',\n",
        " 'mode',\n",
        " 'name',\n",
        " 'newlines',\n",
        " 'next',\n",
        " 'read',\n",
        " 'readinto',\n",
        " 'readline',\n",
        " 'readlines',\n",
        " 'seek',\n",
        " 'softspace',\n",
        " 'tell',\n",
        " 'truncate',\n",
        " 'write',\n",
        " 'writelines',\n",
        " 'xreadlines']"
       ]
      }
     ],
     "prompt_number": 11
    },
    {
     "cell_type": "code",
     "collapsed": false,
     "input": [
      "for lines in open('testing_file_opening.txt', 'r'):\n",
      "    print lines"
     ],
     "language": "python",
     "metadata": {},
     "outputs": [
      {
       "output_type": "stream",
       "stream": "stdout",
       "text": [
        "This is the first line\n",
        "\n",
        "second line\n"
       ]
      }
     ],
     "prompt_number": 15
    },
    {
     "cell_type": "code",
     "collapsed": false,
     "input": [
      "def find_sum():\n",
      "    x = open('numbers.txt', 'r')\n",
      "    for line in x:\n",
      "        total = 0\n",
      "        numbers_as_strings = line.strip().split()\n",
      "        for each_num_string in numbers_as_strings:\n",
      "            total = total + int(each_num_string)\n",
      "        print total\n",
      "\n",
      "find_sum()"
     ],
     "language": "python",
     "metadata": {},
     "outputs": [
      {
       "output_type": "stream",
       "stream": "stdout",
       "text": [
        "131\n",
        "17\n",
        "132\n",
        "105\n",
        "4\n"
       ]
      }
     ],
     "prompt_number": 28
    },
    {
     "cell_type": "raw",
     "metadata": {},
     "source": [
      "# without context manager\n",
      "\n",
      "try:\n",
      "    open(file)\n",
      "    do something\n",
      "except:\n",
      "    handle exception\n",
      "finally:\n",
      "    close file"
     ]
    },
    {
     "cell_type": "code",
     "collapsed": false,
     "input": [
      "# with context manager\n",
      "with open('numbers.txt', 'r') as my_file:\n",
      "    #do something\n",
      "    for lines in my_file:\n",
      "        print lines\n",
      "my_file.readlines()"
     ],
     "language": "python",
     "metadata": {},
     "outputs": [
      {
       "output_type": "stream",
       "stream": "stdout",
       "text": [
        "1 2 34 5 89\n",
        "\n",
        "2 5 10\n",
        "\n",
        "123 4 5 \n",
        "\n",
        "0 7 89 9\n",
        "\n",
        "1 1 1 1 \n",
        "\n"
       ]
      },
      {
       "ename": "ValueError",
       "evalue": "I/O operation on closed file",
       "output_type": "pyerr",
       "traceback": [
        "\u001b[1;31m---------------------------------------------------------------------------\u001b[0m\n\u001b[1;31mValueError\u001b[0m                                Traceback (most recent call last)",
        "\u001b[1;32m<ipython-input-32-e7a4c327ad5e>\u001b[0m in \u001b[0;36m<module>\u001b[1;34m()\u001b[0m\n\u001b[0;32m      5\u001b[0m     \u001b[1;32mfor\u001b[0m \u001b[0mlines\u001b[0m \u001b[1;32min\u001b[0m \u001b[0mmy_file\u001b[0m\u001b[1;33m:\u001b[0m\u001b[1;33m\u001b[0m\u001b[0m\n\u001b[0;32m      6\u001b[0m         \u001b[1;32mprint\u001b[0m \u001b[0mlines\u001b[0m\u001b[1;33m\u001b[0m\u001b[0m\n\u001b[1;32m----> 7\u001b[1;33m \u001b[0mmy_file\u001b[0m\u001b[1;33m.\u001b[0m\u001b[0mreadlines\u001b[0m\u001b[1;33m(\u001b[0m\u001b[1;33m)\u001b[0m\u001b[1;33m\u001b[0m\u001b[0m\n\u001b[0m",
        "\u001b[1;31mValueError\u001b[0m: I/O operation on closed file"
       ]
      }
     ],
     "prompt_number": 32
    },
    {
     "cell_type": "code",
     "collapsed": false,
     "input": [
      "#OS, sys\n",
      "\n",
      "import os\n",
      "\n",
      "print os.name\n",
      "os.system('lss')\n",
      "dir(os)"
     ],
     "language": "python",
     "metadata": {},
     "outputs": [
      {
       "output_type": "stream",
       "stream": "stdout",
       "text": [
        "posix\n"
       ]
      },
      {
       "metadata": {},
       "output_type": "pyout",
       "prompt_number": 39,
       "text": [
        "['EX_CANTCREAT',\n",
        " 'EX_CONFIG',\n",
        " 'EX_DATAERR',\n",
        " 'EX_IOERR',\n",
        " 'EX_NOHOST',\n",
        " 'EX_NOINPUT',\n",
        " 'EX_NOPERM',\n",
        " 'EX_NOUSER',\n",
        " 'EX_OK',\n",
        " 'EX_OSERR',\n",
        " 'EX_OSFILE',\n",
        " 'EX_PROTOCOL',\n",
        " 'EX_SOFTWARE',\n",
        " 'EX_TEMPFAIL',\n",
        " 'EX_UNAVAILABLE',\n",
        " 'EX_USAGE',\n",
        " 'F_OK',\n",
        " 'NGROUPS_MAX',\n",
        " 'O_APPEND',\n",
        " 'O_ASYNC',\n",
        " 'O_CREAT',\n",
        " 'O_DIRECT',\n",
        " 'O_DIRECTORY',\n",
        " 'O_DSYNC',\n",
        " 'O_EXCL',\n",
        " 'O_LARGEFILE',\n",
        " 'O_NDELAY',\n",
        " 'O_NOATIME',\n",
        " 'O_NOCTTY',\n",
        " 'O_NOFOLLOW',\n",
        " 'O_NONBLOCK',\n",
        " 'O_RDONLY',\n",
        " 'O_RDWR',\n",
        " 'O_RSYNC',\n",
        " 'O_SYNC',\n",
        " 'O_TRUNC',\n",
        " 'O_WRONLY',\n",
        " 'P_NOWAIT',\n",
        " 'P_NOWAITO',\n",
        " 'P_WAIT',\n",
        " 'R_OK',\n",
        " 'SEEK_CUR',\n",
        " 'SEEK_END',\n",
        " 'SEEK_SET',\n",
        " 'ST_APPEND',\n",
        " 'ST_MANDLOCK',\n",
        " 'ST_NOATIME',\n",
        " 'ST_NODEV',\n",
        " 'ST_NODIRATIME',\n",
        " 'ST_NOEXEC',\n",
        " 'ST_NOSUID',\n",
        " 'ST_RDONLY',\n",
        " 'ST_RELATIME',\n",
        " 'ST_SYNCHRONOUS',\n",
        " 'ST_WRITE',\n",
        " 'TMP_MAX',\n",
        " 'UserDict',\n",
        " 'WCONTINUED',\n",
        " 'WCOREDUMP',\n",
        " 'WEXITSTATUS',\n",
        " 'WIFCONTINUED',\n",
        " 'WIFEXITED',\n",
        " 'WIFSIGNALED',\n",
        " 'WIFSTOPPED',\n",
        " 'WNOHANG',\n",
        " 'WSTOPSIG',\n",
        " 'WTERMSIG',\n",
        " 'WUNTRACED',\n",
        " 'W_OK',\n",
        " 'X_OK',\n",
        " '_Environ',\n",
        " '__all__',\n",
        " '__builtins__',\n",
        " '__doc__',\n",
        " '__file__',\n",
        " '__name__',\n",
        " '__package__',\n",
        " '_copy_reg',\n",
        " '_execvpe',\n",
        " '_exists',\n",
        " '_exit',\n",
        " '_get_exports_list',\n",
        " '_make_stat_result',\n",
        " '_make_statvfs_result',\n",
        " '_pickle_stat_result',\n",
        " '_pickle_statvfs_result',\n",
        " '_spawnvef',\n",
        " 'abort',\n",
        " 'access',\n",
        " 'altsep',\n",
        " 'chdir',\n",
        " 'chmod',\n",
        " 'chown',\n",
        " 'chroot',\n",
        " 'close',\n",
        " 'closerange',\n",
        " 'confstr',\n",
        " 'confstr_names',\n",
        " 'ctermid',\n",
        " 'curdir',\n",
        " 'defpath',\n",
        " 'devnull',\n",
        " 'dup',\n",
        " 'dup2',\n",
        " 'environ',\n",
        " 'errno',\n",
        " 'error',\n",
        " 'execl',\n",
        " 'execle',\n",
        " 'execlp',\n",
        " 'execlpe',\n",
        " 'execv',\n",
        " 'execve',\n",
        " 'execvp',\n",
        " 'execvpe',\n",
        " 'extsep',\n",
        " 'fchdir',\n",
        " 'fchmod',\n",
        " 'fchown',\n",
        " 'fdatasync',\n",
        " 'fdopen',\n",
        " 'fork',\n",
        " 'forkpty',\n",
        " 'fpathconf',\n",
        " 'fstat',\n",
        " 'fstatvfs',\n",
        " 'fsync',\n",
        " 'ftruncate',\n",
        " 'getcwd',\n",
        " 'getcwdu',\n",
        " 'getegid',\n",
        " 'getenv',\n",
        " 'geteuid',\n",
        " 'getgid',\n",
        " 'getgroups',\n",
        " 'getloadavg',\n",
        " 'getlogin',\n",
        " 'getpgid',\n",
        " 'getpgrp',\n",
        " 'getpid',\n",
        " 'getppid',\n",
        " 'getresgid',\n",
        " 'getresuid',\n",
        " 'getsid',\n",
        " 'getuid',\n",
        " 'initgroups',\n",
        " 'isatty',\n",
        " 'kill',\n",
        " 'killpg',\n",
        " 'lchown',\n",
        " 'linesep',\n",
        " 'link',\n",
        " 'listdir',\n",
        " 'lseek',\n",
        " 'lstat',\n",
        " 'major',\n",
        " 'makedev',\n",
        " 'makedirs',\n",
        " 'minor',\n",
        " 'mkdir',\n",
        " 'mkfifo',\n",
        " 'mknod',\n",
        " 'name',\n",
        " 'nice',\n",
        " 'open',\n",
        " 'openpty',\n",
        " 'pardir',\n",
        " 'path',\n",
        " 'pathconf',\n",
        " 'pathconf_names',\n",
        " 'pathsep',\n",
        " 'pipe',\n",
        " 'popen',\n",
        " 'popen2',\n",
        " 'popen3',\n",
        " 'popen4',\n",
        " 'putenv',\n",
        " 'read',\n",
        " 'readlink',\n",
        " 'remove',\n",
        " 'removedirs',\n",
        " 'rename',\n",
        " 'renames',\n",
        " 'rmdir',\n",
        " 'sep',\n",
        " 'setegid',\n",
        " 'seteuid',\n",
        " 'setgid',\n",
        " 'setgroups',\n",
        " 'setpgid',\n",
        " 'setpgrp',\n",
        " 'setregid',\n",
        " 'setresgid',\n",
        " 'setresuid',\n",
        " 'setreuid',\n",
        " 'setsid',\n",
        " 'setuid',\n",
        " 'spawnl',\n",
        " 'spawnle',\n",
        " 'spawnlp',\n",
        " 'spawnlpe',\n",
        " 'spawnv',\n",
        " 'spawnve',\n",
        " 'spawnvp',\n",
        " 'spawnvpe',\n",
        " 'stat',\n",
        " 'stat_float_times',\n",
        " 'stat_result',\n",
        " 'statvfs',\n",
        " 'statvfs_result',\n",
        " 'strerror',\n",
        " 'symlink',\n",
        " 'sys',\n",
        " 'sysconf',\n",
        " 'sysconf_names',\n",
        " 'system',\n",
        " 'tcgetpgrp',\n",
        " 'tcsetpgrp',\n",
        " 'tempnam',\n",
        " 'times',\n",
        " 'tmpfile',\n",
        " 'tmpnam',\n",
        " 'ttyname',\n",
        " 'umask',\n",
        " 'uname',\n",
        " 'unlink',\n",
        " 'unsetenv',\n",
        " 'urandom',\n",
        " 'utime',\n",
        " 'wait',\n",
        " 'wait3',\n",
        " 'wait4',\n",
        " 'waitpid',\n",
        " 'walk',\n",
        " 'write']"
       ]
      }
     ],
     "prompt_number": 39
    },
    {
     "cell_type": "code",
     "collapsed": true,
     "input": [
      "x = os.getcwd()\n",
      "print os.getcwd()\n",
      "os.chdir('/home/amuneer')\n",
      "print os.getcwd()\n",
      "os.chdir(\"/home/amuneer/workspace/notebook/Training_Feb2015/Day2_Core_Python_Concept\")\n",
      "print os.getcwd()\n",
      "os.mkdir(\"TEST_DIR\")"
     ],
     "language": "python",
     "metadata": {},
     "outputs": [
      {
       "output_type": "stream",
       "stream": "stdout",
       "text": [
        "/home/amuneer/workspace/notebook/Training_Feb2015/Day2_Core_Python_Concept\n",
        "/home/amuneer\n",
        "/home/amuneer/workspace/notebook/Training_Feb2015/Day2_Core_Python_Concept\n"
       ]
      },
      {
       "ename": "OSError",
       "evalue": "[Errno 17] File exists: 'TEST_DIR'",
       "output_type": "pyerr",
       "traceback": [
        "\u001b[1;31m---------------------------------------------------------------------------\u001b[0m\n\u001b[1;31mOSError\u001b[0m                                   Traceback (most recent call last)",
        "\u001b[1;32m<ipython-input-45-eb51076faa7f>\u001b[0m in \u001b[0;36m<module>\u001b[1;34m()\u001b[0m\n\u001b[0;32m      5\u001b[0m \u001b[0mos\u001b[0m\u001b[1;33m.\u001b[0m\u001b[0mchdir\u001b[0m\u001b[1;33m(\u001b[0m\u001b[1;34m\"/home/amuneer/workspace/notebook/Training_Feb2015/Day2_Core_Python_Concept\"\u001b[0m\u001b[1;33m)\u001b[0m\u001b[1;33m\u001b[0m\u001b[0m\n\u001b[0;32m      6\u001b[0m \u001b[1;32mprint\u001b[0m \u001b[0mos\u001b[0m\u001b[1;33m.\u001b[0m\u001b[0mgetcwd\u001b[0m\u001b[1;33m(\u001b[0m\u001b[1;33m)\u001b[0m\u001b[1;33m\u001b[0m\u001b[0m\n\u001b[1;32m----> 7\u001b[1;33m \u001b[0mos\u001b[0m\u001b[1;33m.\u001b[0m\u001b[0mmkdir\u001b[0m\u001b[1;33m(\u001b[0m\u001b[1;34m\"TEST_DIR\"\u001b[0m\u001b[1;33m)\u001b[0m\u001b[1;33m\u001b[0m\u001b[0m\n\u001b[0m",
        "\u001b[1;31mOSError\u001b[0m: [Errno 17] File exists: 'TEST_DIR'"
       ]
      }
     ],
     "prompt_number": 45
    },
    {
     "cell_type": "code",
     "collapsed": false,
     "input": [
      "for x, y, z in os.walk('.'):\n",
      "    print x\n",
      "    print \"+++++++++++++++++++++++++++++++++\"\n",
      "    print y\n",
      "    print \"+++++++++++++++++++++++++++++++++\"\n",
      "    print z\n",
      "    print \"+++++++++++++++++++++++++++++++++\""
     ],
     "language": "python",
     "metadata": {},
     "outputs": [
      {
       "output_type": "stream",
       "stream": "stdout",
       "text": [
        ".\n",
        "./.ipynb_checkpoints\n",
        "./TEST_DIR\n",
        "./files\n"
       ]
      }
     ],
     "prompt_number": 46
    },
    {
     "cell_type": "code",
     "collapsed": false,
     "input": [],
     "language": "python",
     "metadata": {},
     "outputs": []
    }
   ],
   "metadata": {}
  }
 ]
}